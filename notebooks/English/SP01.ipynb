{
 "cells": [
  {
   "cell_type": "markdown",
   "id": "0833aa9b-c5ba-4ee1-b141-4daef5bf579e",
   "metadata": {},
   "source": [
    "To disable all warnings:"
   ]
  },
  {
   "cell_type": "code",
   "execution_count": 1,
   "id": "28634000-2e0c-4742-bc6e-c82f8e9863fd",
   "metadata": {
    "tags": []
   },
   "outputs": [],
   "source": [
    "import warnings\n",
    "warnings.filterwarnings('ignore')"
   ]
  },
  {
   "cell_type": "markdown",
   "id": "962e0c25-b2ae-44a3-b844-7eb4c7777902",
   "metadata": {},
   "source": [
    "# Shortest Path Problem"
   ]
  },
  {
   "cell_type": "markdown",
   "id": "45a31669-1ba8-499e-89bd-1974511b87bd",
   "metadata": {},
   "source": [
    "In this tutorial we will solve shortest path problem using the Python library \"NetworkX\". "
   ]
  },
  {
   "cell_type": "markdown",
   "id": "ffda7a95-9d6f-4c68-9849-a370e1993cc9",
   "metadata": {},
   "source": [
    "First, let's start by importing the libraries."
   ]
  },
  {
   "cell_type": "code",
   "execution_count": 2,
   "id": "d177c030-4bea-4348-9f69-1d7619c1c734",
   "metadata": {
    "tags": []
   },
   "outputs": [],
   "source": [
    "import numpy as np\n",
    "import networkx as nx"
   ]
  },
  {
   "cell_type": "markdown",
   "id": "8e3fe1cc-5330-404c-b3a2-7dba24d04381",
   "metadata": {},
   "source": [
    "# Problem 01"
   ]
  },
  {
   "cell_type": "markdown",
   "id": "ee87395f-9a13-4a2d-82ae-77b750d1a709",
   "metadata": {},
   "source": [
    "Considering the operating costs of a machine based on its cumulative usage time, a workshop considers an optional maintenance offer for this machine at the end of term 5 within a finite planning period. The optional maintenance cost of the machine is 63. The machine is planned to be operated for the next 12-period. "
   ]
  },
  {
   "cell_type": "markdown",
   "id": "a874529c-34dc-414b-ad11-bdd4c2994a59",
   "metadata": {},
   "source": [
    "| Cumulative usage time | Operating cost |\n",
    "| :-------------------: | :------------: |\n",
    "| 0 | 35 |\n",
    "| 1 | 40 |\n",
    "| 2 | 45 |\n",
    "| 3 | 50 |\n",
    "| 4 | 55 |\n",
    "| 5 | 60 |\n",
    "| 6 | 65 |\n",
    "| 7 | 70 |\n",
    "| 8 | 75 |\n",
    "| 9 | 80 |\n",
    "| 10 | 85 |\n",
    "| 11 | 90 |"
   ]
  },
  {
   "cell_type": "markdown",
   "id": "bc36ba84-c746-4045-9e24-bf7872d1bbf8",
   "metadata": {},
   "source": [
    "The Python library \"NetworkX\" supports directed graphs with self loops through the class DiGraph."
   ]
  },
  {
   "cell_type": "code",
   "execution_count": 3,
   "id": "b002a9e4-7773-4679-878b-3580561a3f01",
   "metadata": {
    "tags": []
   },
   "outputs": [],
   "source": [
    "G1 = nx.DiGraph()\n",
    "G1.add_nodes_from([\n",
    "    (\"0\", {\"color\": \"black\"}),\n",
    "    (\"1\", {\"color\": \"black\"}),\n",
    "    (\"2\", {\"color\": \"black\"}),\n",
    "    (\"3\", {\"color\": \"black\"}),\n",
    "    (\"4\", {\"color\": \"black\"}),\n",
    "    (\"5\", {\"color\": \"black\"}),\n",
    "    (\"6\", {\"color\": \"black\"}),\n",
    "    (\"7\", {\"color\": \"black\"}),\n",
    "    (\"7M\", {\"color\": \"black\"}),\n",
    "    (\"8\", {\"color\": \"black\"}),\n",
    "    (\"8M\", {\"color\": \"black\"}),\n",
    "    (\"9\", {\"color\": \"black\"}),\n",
    "    (\"9M\", {\"color\": \"black\"}),\n",
    "    (\"10\", {\"color\": \"black\"}),\n",
    "    (\"10M\", {\"color\": \"black\"}),\n",
    "    (\"11\", {\"color\": \"black\"}),\n",
    "    (\"11M\", {\"color\": \"black\"}),\n",
    "    (\"12\", {\"color\": \"black\"}),\n",
    "])"
   ]
  },
  {
   "cell_type": "markdown",
   "id": "21bd4a96-56b0-4038-a4c8-ba52393c9508",
   "metadata": {},
   "source": [
    "Now, we can define the positions(as the coordinates \"x,y\" on a 2D plane) of the nodes(vertices)."
   ]
  },
  {
   "cell_type": "code",
   "execution_count": 4,
   "id": "015a0758-3658-4850-9ea2-50d32e095c67",
   "metadata": {
    "tags": []
   },
   "outputs": [],
   "source": [
    "nodepos = {\n",
    "    \"0\":np.array([0.0,0.0]),\n",
    "    \"1\":np.array([1.0,0.0]),\n",
    "    \"2\":np.array([2.0,0.0]),\n",
    "    \"3\":np.array([3.0,0.0]),\n",
    "    \"4\":np.array([4.0,0.0]),\n",
    "    \"5\":np.array([5.0,0.0]),\n",
    "    \"6\":np.array([6.0,0.0]),\n",
    "    \"7\":np.array([7.0,0.0]),\n",
    "    \"7M\":np.array([7.0,1.0]),\n",
    "    \"8\":np.array([8.0,0.0]),\n",
    "    \"8M\":np.array([8.0,1.0]),\n",
    "    \"9\":np.array([9.0,0.0]),\n",
    "    \"9M\":np.array([9.0,1.0]),\n",
    "    \"10\":np.array([10.0,0.0]),\n",
    "    \"10M\":np.array([10.0,1.0]),\n",
    "    \"11\":np.array([11.0,0.0]),\n",
    "    \"11M\":np.array([11.0,1.0]),\n",
    "    \"12\":np.array([12.0,0.0])\n",
    "}"
   ]
  },
  {
   "cell_type": "code",
   "execution_count": 5,
   "id": "cf19a1a7-ade7-4b47-9244-0e77971969cf",
   "metadata": {},
   "outputs": [
    {
     "data": {
      "text/plain": [
       "{('0', '1'): Text(0.5, 0.0, '35'),\n",
       " ('1', '2'): Text(1.5, 0.0, '40'),\n",
       " ('2', '3'): Text(2.5, 0.0, '45'),\n",
       " ('3', '4'): Text(3.5, 0.0, '50'),\n",
       " ('4', '5'): Text(4.5, 0.0, '55'),\n",
       " ('5', '6'): Text(5.5, 0.0, '60'),\n",
       " ('6', '7'): Text(6.5, 0.0, '65'),\n",
       " ('6', '7M'): Text(6.5, 0.5, '98'),\n",
       " ('7', '8'): Text(7.5, 0.0, '70'),\n",
       " ('7M', '8M'): Text(7.5, 1.0, '40'),\n",
       " ('8', '9'): Text(8.5, 0.0, '75'),\n",
       " ('8M', '9M'): Text(8.5, 1.0, '45'),\n",
       " ('9', '10'): Text(9.5, 0.0, '80'),\n",
       " ('9M', '10M'): Text(9.5, 1.0, '50'),\n",
       " ('10', '11'): Text(10.5, 0.0, '85'),\n",
       " ('10M', '11M'): Text(10.5, 1.0, '55'),\n",
       " ('11', '12'): Text(11.5, 0.0, '90'),\n",
       " ('11M', '12'): Text(11.5, 0.5, '60')}"
      ]
     },
     "execution_count": 5,
     "metadata": {},
     "output_type": "execute_result"
    },
    {
     "data": {
      "image/png": "[encoded data removed]",
      "text/plain": [
       "<Figure size 640x480 with 1 Axes>"
      ]
     },
     "metadata": {},
     "output_type": "display_data"
    }
   ],
   "source": [
    "elist = [(\"0\", \"1\"),\n",
    "         (\"1\", \"2\"),\n",
    "         (\"2\", \"3\"),\n",
    "         (\"3\", \"4\"),\n",
    "         (\"4\", \"5\"),\n",
    "         (\"5\", \"6\"),\n",
    "         (\"6\", \"7\"),\n",
    "         (\"6\", \"7M\"),\n",
    "         (\"7\", \"8\"),\n",
    "         (\"7M\", \"8M\"),\n",
    "         (\"8\", \"9\"),\n",
    "         (\"8M\", \"9M\"),\n",
    "         (\"9\", \"10\"),\n",
    "         (\"9M\", \"10M\"),\n",
    "         (\"10\", \"11\"),\n",
    "         (\"10M\", \"11M\"),\n",
    "         (\"11\", \"12\"),\n",
    "         (\"11M\", \"12\")]\n",
    "G1.add_edges_from(elist)\n",
    "eattrs = {(\"0\", \"1\"): {\"weight\": 35}, \n",
    "          (\"1\", \"2\"): {\"weight\": 40}, \n",
    "          (\"2\", \"3\"): {\"weight\": 45}, \n",
    "          (\"3\", \"4\"): {\"weight\": 50}, \n",
    "          (\"4\", \"5\"): {\"weight\": 55}, \n",
    "          (\"5\", \"6\"): {\"weight\": 60}, \n",
    "          (\"6\", \"7\"): {\"weight\": 65}, \n",
    "          (\"6\", \"7M\"): {\"weight\": 35+63}, \n",
    "          (\"7\", \"8\"): {\"weight\": 70}, \n",
    "          (\"7M\", \"8M\"): {\"weight\": 40}, \n",
    "          (\"8\", \"9\"): {\"weight\": 75}, \n",
    "          (\"8M\", \"9M\"): {\"weight\": 45}, \n",
    "          (\"9\", \"10\"): {\"weight\": 80}, \n",
    "          (\"9M\", \"10M\"): {\"weight\": 50}, \n",
    "          (\"10\", \"11\"): {\"weight\": 85}, \n",
    "          (\"10M\", \"11M\"): {\"weight\": 55}, \n",
    "          (\"11\", \"12\"): {\"weight\": 90}, \n",
    "          (\"11M\", \"12\"): {\"weight\": 60}}\n",
    "nx.set_edge_attributes(G1, eattrs)\n",
    "nx.draw_networkx_nodes(G1, pos = nodepos)\n",
    "nx.draw_networkx_labels(G1, pos = nodepos)\n",
    "nx.draw_networkx_edges(G1, pos = nodepos, edgelist=elist, arrows=True, connectionstyle='arc3, rad = 0')\n",
    "nx.draw_networkx_edge_labels(G1, pos = nodepos, edge_labels = nx.get_edge_attributes(G1,'weight'), label_pos = 0.5, verticalalignment = 'bottom')"
   ]
  },
  {
   "cell_type": "markdown",
   "id": "2673c171-67c6-4f72-a3e8-b80d23ee7f8e",
   "metadata": {},
   "source": [
    "To get information on the graph \"G1\":"
   ]
  },
  {
   "cell_type": "code",
   "execution_count": 6,
   "id": "ccf290e2-46b2-4d72-82d8-2bdd3ba6ce57",
   "metadata": {
    "tags": []
   },
   "outputs": [
    {
     "name": "stdout",
     "output_type": "stream",
     "text": [
      "DiGraph with 18 nodes and 18 edges\n"
     ]
    }
   ],
   "source": [
    "print(G1)"
   ]
  },
  {
   "cell_type": "markdown",
   "id": "1458cddf-57a6-4441-a047-05ecadbeaed2",
   "metadata": {},
   "source": [
    "To get the sparse adjacency matrix (in compressed sparse row format) of the graph \"G1\":"
   ]
  },
  {
   "cell_type": "code",
   "execution_count": 7,
   "id": "7c98415a-fda7-4a2b-b316-ea1b1546ec92",
   "metadata": {
    "tags": []
   },
   "outputs": [
    {
     "name": "stdout",
     "output_type": "stream",
     "text": [
      "  (0, 1)\t35\n",
      "  (1, 2)\t40\n",
      "  (2, 3)\t45\n",
      "  (3, 4)\t50\n",
      "  (4, 5)\t55\n",
      "  (5, 6)\t60\n",
      "  (6, 7)\t65\n",
      "  (6, 8)\t98\n",
      "  (7, 9)\t70\n",
      "  (8, 10)\t40\n",
      "  (9, 11)\t75\n",
      "  (10, 12)\t45\n",
      "  (11, 13)\t80\n",
      "  (12, 14)\t50\n",
      "  (13, 15)\t85\n",
      "  (14, 16)\t55\n",
      "  (15, 17)\t90\n",
      "  (16, 17)\t60\n"
     ]
    }
   ],
   "source": [
    "G1Adj = nx.adjacency_matrix(G1)\n",
    "print(G1Adj)"
   ]
  },
  {
   "cell_type": "markdown",
   "id": "35fbceb6-b738-47f9-82a9-c8117d900771",
   "metadata": {},
   "source": [
    "To have the adjacency matrix of the graph \"G1\" in dense form:"
   ]
  },
  {
   "cell_type": "code",
   "execution_count": 8,
   "id": "7fbd7d54-1ae0-463e-baca-9e45e41c5ae9",
   "metadata": {
    "tags": []
   },
   "outputs": [
    {
     "name": "stdout",
     "output_type": "stream",
     "text": [
      "[[ 0 35  0  0  0  0  0  0  0  0  0  0  0  0  0  0  0  0]\n",
      " [ 0  0 40  0  0  0  0  0  0  0  0  0  0  0  0  0  0  0]\n",
      " [ 0  0  0 45  0  0  0  0  0  0  0  0  0  0  0  0  0  0]\n",
      " [ 0  0  0  0 50  0  0  0  0  0  0  0  0  0  0  0  0  0]\n",
      " [ 0  0  0  0  0 55  0  0  0  0  0  0  0  0  0  0  0  0]\n",
      " [ 0  0  0  0  0  0 60  0  0  0  0  0  0  0  0  0  0  0]\n",
      " [ 0  0  0  0  0  0  0 65 98  0  0  0  0  0  0  0  0  0]\n",
      " [ 0  0  0  0  0  0  0  0  0 70  0  0  0  0  0  0  0  0]\n",
      " [ 0  0  0  0  0  0  0  0  0  0 40  0  0  0  0  0  0  0]\n",
      " [ 0  0  0  0  0  0  0  0  0  0  0 75  0  0  0  0  0  0]\n",
      " [ 0  0  0  0  0  0  0  0  0  0  0  0 45  0  0  0  0  0]\n",
      " [ 0  0  0  0  0  0  0  0  0  0  0  0  0 80  0  0  0  0]\n",
      " [ 0  0  0  0  0  0  0  0  0  0  0  0  0  0 50  0  0  0]\n",
      " [ 0  0  0  0  0  0  0  0  0  0  0  0  0  0  0 85  0  0]\n",
      " [ 0  0  0  0  0  0  0  0  0  0  0  0  0  0  0  0 55  0]\n",
      " [ 0  0  0  0  0  0  0  0  0  0  0  0  0  0  0  0  0 90]\n",
      " [ 0  0  0  0  0  0  0  0  0  0  0  0  0  0  0  0  0 60]\n",
      " [ 0  0  0  0  0  0  0  0  0  0  0  0  0  0  0  0  0  0]]\n"
     ]
    }
   ],
   "source": [
    "G1_dense = np.array(G1Adj.todense())\n",
    "print(G1_dense)"
   ]
  },
  {
   "cell_type": "code",
   "execution_count": 9,
   "id": "1c3dad2b-9c64-4d45-8ab7-5205cbfef039",
   "metadata": {
    "tags": []
   },
   "outputs": [
    {
     "name": "stdout",
     "output_type": "stream",
     "text": [
      "['0', '1', '2', '3', '4', '5', '6', '7M', '8M', '9M', '10M', '11M', '12']\n"
     ]
    }
   ],
   "source": [
    "path = nx.shortest_path(G1, source='0', target='12', weight = 'weight', method = 'dijkstra')\n",
    "print(path)"
   ]
  },
  {
   "cell_type": "code",
   "execution_count": 10,
   "id": "1939eb6a-425d-4d20-a60e-0e2c03d5369e",
   "metadata": {
    "tags": []
   },
   "outputs": [
    {
     "name": "stdout",
     "output_type": "stream",
     "text": [
      "633\n"
     ]
    }
   ],
   "source": [
    "totalcost = nx.shortest_path_length(G1, source='0', target='12', weight = 'weight', method = 'dijkstra')\n",
    "print(totalcost)"
   ]
  },
  {
   "cell_type": "markdown",
   "id": "a3f8e582-ecc7-4221-a215-5493459dc0ab",
   "metadata": {},
   "source": [
    "According to a new proposal coming to the workshop, a neighboring workshop wants to rent its new machine from the beginning of the third period until the end of the original planning horizon. The costs for the new machine are given below."
   ]
  },
  {
   "cell_type": "markdown",
   "id": "5e4ce673-8457-4979-aecf-a13c77a013a0",
   "metadata": {},
   "source": [
    "| Cumulative usage time | Operating cost |\n",
    "| :-------------------: | :------------: |\n",
    "| 0 | 40 |\n",
    "| 1 | 40 |\n",
    "| 2 | 40 |\n",
    "| 3 | 40 |\n",
    "| 4 | 40 |\n",
    "| 5 | 50 |\n",
    "| 6 | 55 |\n",
    "| 7 | 60 |\n",
    "| 8 | 65 |\n",
    "| 9 | 70 |"
   ]
  },
  {
   "cell_type": "code",
   "execution_count": 11,
   "id": "c00bf3e5-4c0e-407c-b186-22ca9ca33237",
   "metadata": {},
   "outputs": [],
   "source": [
    "G2 = nx.DiGraph()\n",
    "G2.add_nodes_from([\n",
    "    (\"0\", {\"color\": \"black\"}),\n",
    "    (\"1\", {\"color\": \"black\"}),\n",
    "    (\"2\", {\"color\": \"black\"}),\n",
    "    (\"3\", {\"color\": \"black\"}),\n",
    "    (\"3R\", {\"color\": \"black\"}),\n",
    "    (\"4\", {\"color\": \"black\"}),\n",
    "    (\"4R\", {\"color\": \"black\"}),\n",
    "    (\"5\", {\"color\": \"black\"}),\n",
    "    (\"5R\", {\"color\": \"black\"}),\n",
    "    (\"6\", {\"color\": \"black\"}),\n",
    "    (\"6R\", {\"color\": \"black\"}),\n",
    "    (\"7\", {\"color\": \"black\"}),\n",
    "    (\"7R\", {\"color\": \"black\"}),\n",
    "    (\"7M\", {\"color\": \"black\"}),\n",
    "    (\"8\", {\"color\": \"black\"}),\n",
    "    (\"8R\", {\"color\": \"black\"}),\n",
    "    (\"8M\", {\"color\": \"black\"}),\n",
    "    (\"9\", {\"color\": \"black\"}),\n",
    "    (\"9R\", {\"color\": \"black\"}),\n",
    "    (\"9M\", {\"color\": \"black\"}),\n",
    "    (\"10\", {\"color\": \"black\"}),\n",
    "    (\"10R\", {\"color\": \"black\"}),\n",
    "    (\"10M\", {\"color\": \"black\"}),\n",
    "    (\"11\", {\"color\": \"black\"}),\n",
    "    (\"11R\", {\"color\": \"black\"}),\n",
    "    (\"11M\", {\"color\": \"black\"}),\n",
    "    (\"12\", {\"color\": \"black\"}),\n",
    "])"
   ]
  },
  {
   "cell_type": "code",
   "execution_count": 12,
   "id": "db88df09-1620-4e49-8238-26aca58e1505",
   "metadata": {},
   "outputs": [],
   "source": [
    "nodepos = {\n",
    "    \"0\":np.array([0.0,0.0]),\n",
    "    \"1\":np.array([1.0,0.0]),\n",
    "    \"2\":np.array([2.0,0.0]),\n",
    "    \"3\":np.array([3.0,0.0]),\n",
    "    \"3R\":np.array([3.0,2.0]),\n",
    "    \"4\":np.array([4.0,0.0]),\n",
    "    \"4R\":np.array([4.0,2.0]),\n",
    "    \"5\":np.array([5.0,0.0]),\n",
    "    \"5R\":np.array([5.0,2.0]),\n",
    "    \"6\":np.array([6.0,0.0]),\n",
    "    \"6R\":np.array([6.0,2.0]),\n",
    "    \"7\":np.array([7.0,0.0]),\n",
    "    \"7R\":np.array([7.0,2.0]),\n",
    "    \"7M\":np.array([7.0,1.0]),\n",
    "    \"8\":np.array([8.0,0.0]),\n",
    "    \"8R\":np.array([8.0,2.0]),\n",
    "    \"8M\":np.array([8.0,1.0]),\n",
    "    \"9\":np.array([9.0,0.0]),\n",
    "    \"9R\":np.array([9.0,2.0]),\n",
    "    \"9M\":np.array([9.0,1.0]),\n",
    "    \"10\":np.array([10.0,0.0]),\n",
    "    \"10R\":np.array([10.0,2.0]),\n",
    "    \"10M\":np.array([10.0,1.0]),\n",
    "    \"11\":np.array([11.0,0.0]),\n",
    "    \"11R\":np.array([11.0,2.0]),\n",
    "    \"11M\":np.array([11.0,1.0]),\n",
    "    \"12\":np.array([12.0,0.0])\n",
    "}"
   ]
  },
  {
   "cell_type": "code",
   "execution_count": 13,
   "id": "881d23f9-030f-4e51-b1b0-9566d1c84cfc",
   "metadata": {},
   "outputs": [
    {
     "data": {
      "text/plain": [
       "{('0', '1'): Text(0.5, 0.0, '35'),\n",
       " ('1', '2'): Text(1.5, 0.0, '40'),\n",
       " ('2', '3'): Text(2.5, 0.0, '45'),\n",
       " ('2', '3R'): Text(2.5, 1.0, '40'),\n",
       " ('3', '4'): Text(3.5, 0.0, '50'),\n",
       " ('3R', '4R'): Text(3.5, 2.0, '40'),\n",
       " ('4', '5'): Text(4.5, 0.0, '55'),\n",
       " ('4R', '5R'): Text(4.5, 2.0, '40'),\n",
       " ('5', '6'): Text(5.5, 0.0, '60'),\n",
       " ('5R', '6R'): Text(5.5, 2.0, '40'),\n",
       " ('6', '7'): Text(6.5, 0.0, '65'),\n",
       " ('6', '7M'): Text(6.5, 0.5, '98'),\n",
       " ('6R', '7R'): Text(6.5, 2.0, '40'),\n",
       " ('7', '8'): Text(7.5, 0.0, '70'),\n",
       " ('7R', '8R'): Text(7.5, 2.0, '50'),\n",
       " ('7M', '8M'): Text(7.5, 1.0, '40'),\n",
       " ('8', '9'): Text(8.5, 0.0, '75'),\n",
       " ('8R', '9R'): Text(8.5, 2.0, '55'),\n",
       " ('8M', '9M'): Text(8.5, 1.0, '45'),\n",
       " ('9', '10'): Text(9.5, 0.0, '80'),\n",
       " ('9R', '10R'): Text(9.5, 2.0, '60'),\n",
       " ('9M', '10M'): Text(9.5, 1.0, '50'),\n",
       " ('10', '11'): Text(10.5, 0.0, '85'),\n",
       " ('10R', '11R'): Text(10.5, 2.0, '65'),\n",
       " ('10M', '11M'): Text(10.5, 1.0, '55'),\n",
       " ('11', '12'): Text(11.5, 0.0, '90'),\n",
       " ('11R', '12'): Text(11.5, 1.0, '70'),\n",
       " ('11M', '12'): Text(11.5, 0.5, '60')}"
      ]
     },
     "execution_count": 13,
     "metadata": {},
     "output_type": "execute_result"
    },
    {
     "data": {
      "image/png": "[encoded data removed]",
      "text/plain": [
       "<Figure size 640x480 with 1 Axes>"
      ]
     },
     "metadata": {},
     "output_type": "display_data"
    }
   ],
   "source": [
    "elist = [(\"0\", \"1\"),\n",
    "         (\"1\", \"2\"),\n",
    "         (\"2\", \"3\"),\n",
    "         (\"2\", \"3R\"),\n",
    "         (\"3\", \"4\"),\n",
    "         (\"3R\", \"4R\"),\n",
    "         (\"4\", \"5\"),\n",
    "         (\"4R\", \"5R\"),\n",
    "         (\"5\", \"6\"),\n",
    "         (\"5R\", \"6R\"),\n",
    "         (\"6\", \"7\"),\n",
    "         (\"6R\", \"7R\"),\n",
    "         (\"6\", \"7M\"),\n",
    "         (\"7\", \"8\"),\n",
    "         (\"7R\", \"8R\"),\n",
    "         (\"7M\", \"8M\"),\n",
    "         (\"8\", \"9\"),\n",
    "         (\"8R\", \"9R\"),\n",
    "         (\"8M\", \"9M\"),\n",
    "         (\"9\", \"10\"),\n",
    "         (\"9R\", \"10R\"),\n",
    "         (\"9M\", \"10M\"),\n",
    "         (\"10\", \"11\"),\n",
    "         (\"10R\", \"11R\"),\n",
    "         (\"10M\", \"11M\"),\n",
    "         (\"11\", \"12\"),\n",
    "         (\"11R\", \"12\"),\n",
    "         (\"11M\", \"12\")]\n",
    "G2.add_edges_from(elist)\n",
    "eattrs = {(\"0\", \"1\"): {\"weight\": 35}, \n",
    "          (\"1\", \"2\"): {\"weight\": 40}, \n",
    "          (\"2\", \"3\"): {\"weight\": 45},\n",
    "          (\"2\", \"3R\"): {\"weight\": 40},\n",
    "          (\"3\", \"4\"): {\"weight\": 50},\n",
    "          (\"3R\", \"4R\"): {\"weight\": 40},\n",
    "          (\"4\", \"5\"): {\"weight\": 55},\n",
    "          (\"4R\", \"5R\"): {\"weight\": 40},\n",
    "          (\"5\", \"6\"): {\"weight\": 60},\n",
    "          (\"5R\", \"6R\"): {\"weight\": 40},\n",
    "          (\"6\", \"7\"): {\"weight\": 65},\n",
    "          (\"6R\", \"7R\"): {\"weight\": 40},\n",
    "          (\"6\", \"7M\"): {\"weight\": 35+63}, \n",
    "          (\"7\", \"8\"): {\"weight\": 70},\n",
    "          (\"7R\", \"8R\"): {\"weight\": 50},\n",
    "          (\"7M\", \"8M\"): {\"weight\": 40}, \n",
    "          (\"8\", \"9\"): {\"weight\": 75},\n",
    "          (\"8R\", \"9R\"): {\"weight\": 55},\n",
    "          (\"8M\", \"9M\"): {\"weight\": 45}, \n",
    "          (\"9\", \"10\"): {\"weight\": 80},\n",
    "          (\"9R\", \"10R\"): {\"weight\": 60},\n",
    "          (\"9M\", \"10M\"): {\"weight\": 50}, \n",
    "          (\"10\", \"11\"): {\"weight\": 85},\n",
    "          (\"10R\", \"11R\"): {\"weight\": 65},\n",
    "          (\"10M\", \"11M\"): {\"weight\": 55}, \n",
    "          (\"11\", \"12\"): {\"weight\": 90},\n",
    "          (\"11R\", \"12\"): {\"weight\": 70},\n",
    "          (\"11M\", \"12\"): {\"weight\": 60}}\n",
    "nx.set_edge_attributes(G2, eattrs)\n",
    "nx.draw_networkx_nodes(G2, pos = nodepos)\n",
    "nx.draw_networkx_labels(G2, pos = nodepos)\n",
    "nx.draw_networkx_edges(G2, pos = nodepos, edgelist=elist, arrows=True, connectionstyle='arc3, rad = 0')\n",
    "nx.draw_networkx_edge_labels(G2, pos = nodepos, edge_labels = nx.get_edge_attributes(G2,'weight'), label_pos = 0.5, verticalalignment = 'bottom')"
   ]
  },
  {
   "cell_type": "code",
   "execution_count": 14,
   "id": "6a3d6703-d70e-428f-8d54-9e29c5065861",
   "metadata": {},
   "outputs": [
    {
     "name": "stdout",
     "output_type": "stream",
     "text": [
      "DiGraph with 27 nodes and 28 edges\n"
     ]
    }
   ],
   "source": [
    "print(G2)"
   ]
  },
  {
   "cell_type": "code",
   "execution_count": 15,
   "id": "f971ff8a-46bc-47d7-978c-284a92dbf1a9",
   "metadata": {},
   "outputs": [
    {
     "name": "stdout",
     "output_type": "stream",
     "text": [
      "  (0, 1)\t35\n",
      "  (1, 2)\t40\n",
      "  (2, 3)\t45\n",
      "  (2, 4)\t40\n",
      "  (3, 5)\t50\n",
      "  (4, 6)\t40\n",
      "  (5, 7)\t55\n",
      "  (6, 8)\t40\n",
      "  (7, 9)\t60\n",
      "  (8, 10)\t40\n",
      "  (9, 11)\t65\n",
      "  (9, 13)\t98\n",
      "  (10, 12)\t40\n",
      "  (11, 14)\t70\n",
      "  (12, 15)\t50\n",
      "  (13, 16)\t40\n",
      "  (14, 17)\t75\n",
      "  (15, 18)\t55\n",
      "  (16, 19)\t45\n",
      "  (17, 20)\t80\n",
      "  (18, 21)\t60\n",
      "  (19, 22)\t50\n",
      "  (20, 23)\t85\n",
      "  (21, 24)\t65\n",
      "  (22, 25)\t55\n",
      "  (23, 26)\t90\n",
      "  (24, 26)\t70\n",
      "  (25, 26)\t60\n"
     ]
    }
   ],
   "source": [
    "G2Adj = nx.adjacency_matrix(G2)\n",
    "print(G2Adj)"
   ]
  },
  {
   "cell_type": "code",
   "execution_count": 16,
   "id": "ccf64ee5-b39b-4140-becc-9070da50633e",
   "metadata": {},
   "outputs": [
    {
     "name": "stdout",
     "output_type": "stream",
     "text": [
      "['0', '1', '2', '3R', '4R', '5R', '6R', '7R', '8R', '9R', '10R', '11R', '12']\n"
     ]
    }
   ],
   "source": [
    "path2 = nx.shortest_path(G2, source='0', target='12', weight = 'weight', method = 'dijkstra')\n",
    "print(path2)"
   ]
  },
  {
   "cell_type": "code",
   "execution_count": 17,
   "id": "ff3294d6-0a99-4745-9c66-48b920c97041",
   "metadata": {
    "tags": []
   },
   "outputs": [
    {
     "name": "stdout",
     "output_type": "stream",
     "text": [
      "575\n"
     ]
    }
   ],
   "source": [
    "totalcost2 = nx.shortest_path_length(G2, source='0', target='12', weight = 'weight', method = 'dijkstra')\n",
    "print(totalcost2)"
   ]
  }
 ],
 "metadata": {
  "kernelspec": {
   "display_name": "Python 3 (ipykernel)",
   "language": "python",
   "name": "python3"
  },
  "language_info": {
   "codemirror_mode": {
    "name": "ipython",
    "version": 3
   },
   "file_extension": ".py",
   "mimetype": "text/x-python",
   "name": "python",
   "nbconvert_exporter": "python",
   "pygments_lexer": "ipython3",
   "version": "3.11.3"
  }
 },
 "nbformat": 4,
 "nbformat_minor": 5
}
