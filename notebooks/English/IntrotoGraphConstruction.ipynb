{
 "cells": [
  {
   "cell_type": "markdown",
   "id": "0833aa9b-c5ba-4ee1-b141-4daef5bf579e",
   "metadata": {},
   "source": [
    "To disable all warnings:"
   ]
  },
  {
   "cell_type": "code",
   "execution_count": 1,
   "id": "28634000-2e0c-4742-bc6e-c82f8e9863fd",
   "metadata": {
    "tags": []
   },
   "outputs": [],
   "source": [
    "import warnings\n",
    "warnings.filterwarnings('ignore')"
   ]
  },
  {
   "cell_type": "markdown",
   "id": "962e0c25-b2ae-44a3-b844-7eb4c7777902",
   "metadata": {},
   "source": [
    "# A Short Intro to Graph Construction"
   ]
  },
  {
   "cell_type": "markdown",
   "id": "45a31669-1ba8-499e-89bd-1974511b87bd",
   "metadata": {},
   "source": [
    "In this tutorial we will learn how to create different types of graphs using the Python libraries \"NumPy\", \"NetworkX\" and \"SciPy\". "
   ]
  },
  {
   "cell_type": "markdown",
   "id": "ffda7a95-9d6f-4c68-9849-a370e1993cc9",
   "metadata": {},
   "source": [
    "First, let's start by importing the libraries. \"csgraph\" and \"csr_matrix\" are for sparse graph and sparse matrix operations, respectively."
   ]
  },
  {
   "cell_type": "code",
   "execution_count": 2,
   "id": "d177c030-4bea-4348-9f69-1d7619c1c734",
   "metadata": {
    "tags": []
   },
   "outputs": [],
   "source": [
    "import numpy as np\n",
    "import networkx as nx\n",
    "from scipy.sparse import csr_matrix, csgraph"
   ]
  },
  {
   "cell_type": "markdown",
   "id": "b9d5a907-b848-43b6-aa29-c0165c2f395c",
   "metadata": {},
   "source": [
    "The Python library \"NetworkX\" supports both directed and undirected graphs through four classes:\n",
    "\n",
    "- Graph (undirected, self loops)\n",
    "- DiGraph (directed, self loops)\n",
    "- MultiGraph (undirected, multiple edges, self loops)\n",
    "- MultiDiGraph (directed, multiple edges, self loops)"
   ]
  },
  {
   "cell_type": "markdown",
   "id": "7ff303f9-10e4-4d83-8e42-ada198332824",
   "metadata": {},
   "source": [
    "# MultiGraph"
   ]
  },
  {
   "cell_type": "markdown",
   "id": "40887ef7-a4a0-488f-a7c2-a4fdc008b752",
   "metadata": {},
   "source": [
    "First, we start with the MultiGraph class. The graph \"G1\" has four nodes(vertices)."
   ]
  },
  {
   "cell_type": "code",
   "execution_count": 3,
   "id": "b002a9e4-7773-4679-878b-3580561a3f01",
   "metadata": {
    "tags": []
   },
   "outputs": [],
   "source": [
    "G1 = nx.MultiGraph()\n",
    "G1.add_nodes_from([\n",
    "    (0, {\"color\": \"black\"}),\n",
    "    (1, {\"color\": \"black\"}),\n",
    "    (2, {\"color\": \"black\"}),\n",
    "    (3, {\"color\": \"black\"}),\n",
    "])"
   ]
  },
  {
   "cell_type": "markdown",
   "id": "6d41c5fc-9fe8-4a68-9e73-ce75c2236b3a",
   "metadata": {},
   "source": [
    "Next, we create three lists for the edges of the graph \"G1\". The number of edges between node pairs are two for each of the pair of nodes \"0-1\" and \"1-2\". There is only one edge between each of the pair of nodes \"0-3\", \"1-3\" and \"2-3\"."
   ]
  },
  {
   "cell_type": "code",
   "execution_count": 4,
   "id": "ad3fd57f-4735-45b5-94e3-ab0f58d8ca79",
   "metadata": {
    "tags": []
   },
   "outputs": [
    {
     "data": {
      "text/plain": [
       "[0, 0, 0, 0, 0, 1, 1]"
      ]
     },
     "execution_count": 4,
     "metadata": {},
     "output_type": "execute_result"
    }
   ],
   "source": [
    "elistsingle = [(0, 3), (1, 3), (2, 3)]\n",
    "elistmultiple1 = [(0, 1), (1, 2)]\n",
    "elistmultiple2 = [(1, 0), (2, 1)]\n",
    "elist = elistsingle+elistmultiple1+elistmultiple2\n",
    "G1.add_edges_from(elist)"
   ]
  },
  {
   "cell_type": "markdown",
   "id": "21bd4a96-56b0-4038-a4c8-ba52393c9508",
   "metadata": {},
   "source": [
    "Now, we can define the positions(as the coordinates \"x,y\" on a 2D plane) of the nodes(vertices)."
   ]
  },
  {
   "cell_type": "code",
   "execution_count": 5,
   "id": "015a0758-3658-4850-9ea2-50d32e095c67",
   "metadata": {
    "tags": []
   },
   "outputs": [],
   "source": [
    "nodepos = {\n",
    "    0:np.array([1.0,3.0]),\n",
    "    1:np.array([1.0,2.0]),\n",
    "    2:np.array([1.0,1.0]),\n",
    "    3:np.array([2.0,2.0])\n",
    "}"
   ]
  },
  {
   "cell_type": "markdown",
   "id": "7c5b129d-527f-4776-9628-19249f7359d1",
   "metadata": {},
   "source": [
    "Finally, we are ready to draw our graph \"G1\". The order for drawing is as follows:\n",
    "1. nodes\n",
    "2. node labels\n",
    "3. single edges\n",
    "4. multiple edges"
   ]
  },
  {
   "cell_type": "code",
   "execution_count": 6,
   "id": "fc37de58-e46c-4fa8-b905-384542a5e23c",
   "metadata": {
    "tags": []
   },
   "outputs": [
    {
     "data": {
      "text/plain": [
       "[<matplotlib.patches.FancyArrowPatch at 0x25b62a3ac90>,\n",
       " <matplotlib.patches.FancyArrowPatch at 0x25b629af510>]"
      ]
     },
     "execution_count": 6,
     "metadata": {},
     "output_type": "execute_result"
    },
    {
     "data": {
      "image/png": "[encoded data removed]",
      "text/plain": [
       "<Figure size 640x480 with 1 Axes>"
      ]
     },
     "metadata": {},
     "output_type": "display_data"
    }
   ],
   "source": [
    "nx.draw_networkx_nodes(G1, pos = nodepos)\n",
    "nx.draw_networkx_labels(G1, pos = nodepos)\n",
    "nx.draw_networkx_edges(G1, pos = nodepos, edgelist=elistsingle, arrows=True, connectionstyle='arc3, rad = 0')\n",
    "nx.draw_networkx_edges(G1, pos = nodepos, edgelist=elistmultiple1, arrows=True, connectionstyle='arc3, rad = 0.2')\n",
    "nx.draw_networkx_edges(G1, pos = nodepos, edgelist=elistmultiple2, arrows=True, connectionstyle='arc3,rad = 0.2')"
   ]
  },
  {
   "cell_type": "markdown",
   "id": "2673c171-67c6-4f72-a3e8-b80d23ee7f8e",
   "metadata": {},
   "source": [
    "To get information on the graph \"G1\":"
   ]
  },
  {
   "cell_type": "code",
   "execution_count": 7,
   "id": "ccf290e2-46b2-4d72-82d8-2bdd3ba6ce57",
   "metadata": {
    "tags": []
   },
   "outputs": [
    {
     "name": "stdout",
     "output_type": "stream",
     "text": [
      "MultiGraph with 4 nodes and 7 edges\n"
     ]
    }
   ],
   "source": [
    "print(G1)"
   ]
  },
  {
   "cell_type": "markdown",
   "id": "1458cddf-57a6-4441-a047-05ecadbeaed2",
   "metadata": {},
   "source": [
    "To get the sparse adjacency matrix (in compressed sparse row format) of the graph \"G1\":"
   ]
  },
  {
   "cell_type": "code",
   "execution_count": 8,
   "id": "7c98415a-fda7-4a2b-b316-ea1b1546ec92",
   "metadata": {
    "tags": []
   },
   "outputs": [
    {
     "name": "stdout",
     "output_type": "stream",
     "text": [
      "  (0, 1)\t2\n",
      "  (0, 3)\t1\n",
      "  (1, 0)\t2\n",
      "  (1, 2)\t2\n",
      "  (1, 3)\t1\n",
      "  (2, 1)\t2\n",
      "  (2, 3)\t1\n",
      "  (3, 0)\t1\n",
      "  (3, 1)\t1\n",
      "  (3, 2)\t1\n"
     ]
    }
   ],
   "source": [
    "G1Adj = nx.adjacency_matrix(G1)\n",
    "print(G1Adj)"
   ]
  },
  {
   "cell_type": "markdown",
   "id": "35fbceb6-b738-47f9-82a9-c8117d900771",
   "metadata": {},
   "source": [
    "To have the adjacency matrix of the graph \"G1\" in dense form:"
   ]
  },
  {
   "cell_type": "code",
   "execution_count": 9,
   "id": "7fbd7d54-1ae0-463e-baca-9e45e41c5ae9",
   "metadata": {
    "tags": []
   },
   "outputs": [
    {
     "name": "stdout",
     "output_type": "stream",
     "text": [
      "[[0 2 0 1]\n",
      " [2 0 2 1]\n",
      " [0 2 0 1]\n",
      " [1 1 1 0]]\n"
     ]
    }
   ],
   "source": [
    "G1_dense = np.array(G1Adj.todense())\n",
    "print(G1_dense)"
   ]
  },
  {
   "cell_type": "markdown",
   "id": "086adca7-d1ff-44e7-866b-0253e09516d2",
   "metadata": {
    "tags": []
   },
   "source": [
    "To put back the adjacency matrix of the graph \"G1\" in the sparse form:"
   ]
  },
  {
   "cell_type": "code",
   "execution_count": 10,
   "id": "83c0788a-6ffa-4fe6-9638-e59877f38bb4",
   "metadata": {
    "tags": []
   },
   "outputs": [
    {
     "name": "stdout",
     "output_type": "stream",
     "text": [
      "  (0, 1)\t2\n",
      "  (0, 3)\t1\n",
      "  (1, 0)\t2\n",
      "  (1, 2)\t2\n",
      "  (1, 3)\t1\n",
      "  (2, 1)\t2\n",
      "  (2, 3)\t1\n",
      "  (3, 0)\t1\n",
      "  (3, 1)\t1\n",
      "  (3, 2)\t1\n"
     ]
    }
   ],
   "source": [
    "G1_sparse = csr_matrix(G1_dense)\n",
    "print(G1_sparse)"
   ]
  },
  {
   "cell_type": "markdown",
   "id": "f538e4af-af6b-429d-82a1-2f1849225dc7",
   "metadata": {
    "tags": []
   },
   "source": [
    "To have the adjacency matrix of the graph \"G1\" again in dense form:"
   ]
  },
  {
   "cell_type": "code",
   "execution_count": 11,
   "id": "1e6f9aa5-f8ba-4018-a659-b61e862add5e",
   "metadata": {
    "tags": []
   },
   "outputs": [
    {
     "name": "stdout",
     "output_type": "stream",
     "text": [
      "[[0. 2. 0. 1.]\n",
      " [2. 0. 2. 1.]\n",
      " [0. 2. 0. 1.]\n",
      " [1. 1. 1. 0.]]\n"
     ]
    }
   ],
   "source": [
    "G1_dense2 = csgraph.csgraph_to_dense(G1_sparse)\n",
    "print(G1_dense2)"
   ]
  },
  {
   "cell_type": "markdown",
   "id": "4e65bb9d-2225-425f-928b-9e8dc6724619",
   "metadata": {},
   "source": [
    "# Graph"
   ]
  },
  {
   "cell_type": "markdown",
   "id": "779a174c-f7d1-4904-9ef0-351672fb9522",
   "metadata": {},
   "source": [
    "Now, we create another graph \"G2\" having the Graph class. "
   ]
  },
  {
   "cell_type": "code",
   "execution_count": 12,
   "id": "86b67262-5039-43cc-901b-c428500e0504",
   "metadata": {},
   "outputs": [
    {
     "data": {
      "text/plain": [
       "[<matplotlib.patches.FancyArrowPatch at 0x25b62b09e90>,\n",
       " <matplotlib.patches.FancyArrowPatch at 0x25b62a8b450>,\n",
       " <matplotlib.patches.FancyArrowPatch at 0x25b62a892d0>,\n",
       " <matplotlib.patches.FancyArrowPatch at 0x25b62a8add0>,\n",
       " <matplotlib.patches.FancyArrowPatch at 0x25b631ca1d0>]"
      ]
     },
     "execution_count": 12,
     "metadata": {},
     "output_type": "execute_result"
    },
    {
     "data": {
      "image/png": "[encoded data removed]",
      "text/plain": [
       "<Figure size 640x480 with 1 Axes>"
      ]
     },
     "metadata": {},
     "output_type": "display_data"
    }
   ],
   "source": [
    "G2 = nx.Graph()\n",
    "G2.add_nodes_from([\n",
    "    (0, {\"color\": \"black\"}),\n",
    "    (1, {\"color\": \"black\"}),\n",
    "    (2, {\"color\": \"black\"}),\n",
    "    (3, {\"color\": \"black\"}),\n",
    "])\n",
    "elist = elistsingle+elistmultiple1\n",
    "G2.add_edges_from(elist)\n",
    "nx.draw_networkx_nodes(G2, pos = nodepos)\n",
    "nx.draw_networkx_labels(G2, pos = nodepos)\n",
    "nx.draw_networkx_edges(G2, pos = nodepos, edgelist=elist, arrows=True, connectionstyle='arc3, rad = 0')"
   ]
  },
  {
   "cell_type": "markdown",
   "id": "f471c0fe-e9ef-4e77-8c71-7eeecd4cdb5c",
   "metadata": {},
   "source": [
    "Then, we can get information on the graph \"G2\" as follows:"
   ]
  },
  {
   "cell_type": "code",
   "execution_count": 13,
   "id": "3b258a86-03cd-407d-82e1-0fda4fcd08b8",
   "metadata": {
    "tags": []
   },
   "outputs": [
    {
     "name": "stdout",
     "output_type": "stream",
     "text": [
      "Graph with 4 nodes and 5 edges\n"
     ]
    }
   ],
   "source": [
    "print(G2)"
   ]
  },
  {
   "cell_type": "code",
   "execution_count": 14,
   "id": "5d65bbd6-01b6-4146-aaec-242137af8ae5",
   "metadata": {
    "tags": []
   },
   "outputs": [
    {
     "name": "stdout",
     "output_type": "stream",
     "text": [
      "[[0 1 0 1]\n",
      " [1 0 1 1]\n",
      " [0 1 0 1]\n",
      " [1 1 1 0]]\n"
     ]
    }
   ],
   "source": [
    "G2Adj = nx.adjacency_matrix(G2)\n",
    "G2_dense = np.array(G2Adj.todense())\n",
    "print(G2_dense)"
   ]
  },
  {
   "cell_type": "code",
   "execution_count": 15,
   "id": "c6347384-c5de-493f-96c0-dbe5ba0f3ffa",
   "metadata": {
    "tags": []
   },
   "outputs": [
    {
     "name": "stdout",
     "output_type": "stream",
     "text": [
      "  (0, 1)\t1\n",
      "  (0, 3)\t1\n",
      "  (1, 0)\t1\n",
      "  (1, 2)\t1\n",
      "  (1, 3)\t1\n",
      "  (2, 1)\t1\n",
      "  (2, 3)\t1\n",
      "  (3, 0)\t1\n",
      "  (3, 1)\t1\n",
      "  (3, 2)\t1\n"
     ]
    }
   ],
   "source": [
    "G2_sparse = csr_matrix(G2_dense)\n",
    "print(G2_sparse)"
   ]
  },
  {
   "cell_type": "code",
   "execution_count": 16,
   "id": "2b9924f4-d70e-4184-9043-a5827360d59e",
   "metadata": {
    "tags": []
   },
   "outputs": [
    {
     "name": "stdout",
     "output_type": "stream",
     "text": [
      "[[0. 1. 0. 1.]\n",
      " [1. 0. 1. 1.]\n",
      " [0. 1. 0. 1.]\n",
      " [1. 1. 1. 0.]]\n"
     ]
    }
   ],
   "source": [
    "G2_dense2 = csgraph.csgraph_to_dense(G2_sparse)\n",
    "print(G2_dense2)"
   ]
  },
  {
   "cell_type": "markdown",
   "id": "6690210c-d281-480d-a99e-8f5e35bffe54",
   "metadata": {
    "tags": []
   },
   "source": [
    "# DiGraph"
   ]
  },
  {
   "cell_type": "markdown",
   "id": "9a9c457b-cf3d-42fd-8144-dca3ee64e921",
   "metadata": {},
   "source": [
    "The graph \"G3\" belongs to the class of DiGraph."
   ]
  },
  {
   "cell_type": "code",
   "execution_count": 17,
   "id": "bf241843-5ed7-4680-a76f-6e5ed023671c",
   "metadata": {},
   "outputs": [],
   "source": [
    "G3 = nx.DiGraph()\n",
    "G3.add_nodes_from([\n",
    "    (0, {\"color\": \"black\"}),\n",
    "    (1, {\"color\": \"black\"}),\n",
    "    (2, {\"color\": \"black\"}),\n",
    "    (3, {\"color\": \"black\"}),\n",
    "])"
   ]
  },
  {
   "cell_type": "markdown",
   "id": "806432b9-45e4-4854-b18b-b097c0838d1c",
   "metadata": {},
   "source": [
    "The edges of the graph \"G3\" are both directed and weighted. The last numerical value in the Python tuples is for the weight of the corresponding edge."
   ]
  },
  {
   "cell_type": "code",
   "execution_count": 18,
   "id": "b55a14ad-3648-4e72-97c8-d4bd2ea0b613",
   "metadata": {},
   "outputs": [
    {
     "data": {
      "text/plain": [
       "{(0, 1): Text(1.0, 2.3, '3.0'),\n",
       " (0, 3): Text(1.7, 2.3, '5.0'),\n",
       " (1, 2): Text(1.0, 1.2999999999999998, '4.0'),\n",
       " (1, 3): Text(1.7, 2.0, '7.0'),\n",
       " (1, 0): Text(1.0, 2.6999999999999997, '4.0'),\n",
       " (2, 3): Text(1.7, 1.7, '9.0'),\n",
       " (2, 1): Text(1.0, 1.7, '3.0'),\n",
       " (3, 0): Text(1.2999999999999998, 2.6999999999999997, '5.0'),\n",
       " (3, 1): Text(1.2999999999999998, 2.0, '7.0'),\n",
       " (3, 2): Text(1.2999999999999998, 1.2999999999999998, '11.0')}"
      ]
     },
     "execution_count": 18,
     "metadata": {},
     "output_type": "execute_result"
    },
    {
     "data": {
      "image/png": "[encoded data removed]",
      "text/plain": [
       "<Figure size 640x480 with 1 Axes>"
      ]
     },
     "metadata": {},
     "output_type": "display_data"
    }
   ],
   "source": [
    "elist1 = [(0, 1, 3.0), (1, 2, 4.0), (0, 3, 5.0), (1, 3, 7.0), (2, 3, 9.0)]\n",
    "elist2 = [(1, 0, 4.0), (2, 1, 3.0), (3, 0, 5.0), (3, 1, 7.0), (3, 2, 11.0)]\n",
    "G3.add_weighted_edges_from(elist1+elist2)\n",
    "nx.draw_networkx_nodes(G3, pos = nodepos)\n",
    "nx.draw_networkx_labels(G3, pos = nodepos)\n",
    "nx.draw_networkx_edges(G3, pos = nodepos, edgelist=elist1, arrows=True, connectionstyle='arc3, rad = 0.2')\n",
    "nx.draw_networkx_edges(G3, pos = nodepos, edgelist=elist2, arrows=True, connectionstyle='arc3, rad = 0.2')\n",
    "nx.draw_networkx_edge_labels(G3, pos = nodepos, edge_labels = nx.get_edge_attributes(G3,'weight'), label_pos = 0.3)"
   ]
  },
  {
   "cell_type": "markdown",
   "id": "f41ffa4f-78b1-408f-afe2-c50d4ef7e971",
   "metadata": {},
   "source": [
    "The information on the graph \"G3\" is as follows:"
   ]
  },
  {
   "cell_type": "code",
   "execution_count": 19,
   "id": "655cdd7a-6da5-423a-902a-cbc599bb11a2",
   "metadata": {
    "tags": []
   },
   "outputs": [
    {
     "name": "stdout",
     "output_type": "stream",
     "text": [
      "DiGraph with 4 nodes and 10 edges\n"
     ]
    }
   ],
   "source": [
    "print(G3)"
   ]
  },
  {
   "cell_type": "code",
   "execution_count": 20,
   "id": "344edc5b-8ae0-405e-948c-936d8e0aa1fb",
   "metadata": {
    "tags": []
   },
   "outputs": [
    {
     "name": "stdout",
     "output_type": "stream",
     "text": [
      "[[ 0.  3.  0.  5.]\n",
      " [ 4.  0.  4.  7.]\n",
      " [ 0.  3.  0.  9.]\n",
      " [ 5.  7. 11.  0.]]\n"
     ]
    }
   ],
   "source": [
    "G3Adj = nx.adjacency_matrix(G3)\n",
    "G3_dense = np.array(G3Adj.todense())\n",
    "print(G3_dense)"
   ]
  },
  {
   "cell_type": "code",
   "execution_count": 21,
   "id": "a3672eca-376e-41c8-bf2a-1b1116385a3d",
   "metadata": {
    "tags": []
   },
   "outputs": [
    {
     "name": "stdout",
     "output_type": "stream",
     "text": [
      "  (0, 1)\t3.0\n",
      "  (0, 3)\t5.0\n",
      "  (1, 0)\t4.0\n",
      "  (1, 2)\t4.0\n",
      "  (1, 3)\t7.0\n",
      "  (2, 1)\t3.0\n",
      "  (2, 3)\t9.0\n",
      "  (3, 0)\t5.0\n",
      "  (3, 1)\t7.0\n",
      "  (3, 2)\t11.0\n"
     ]
    }
   ],
   "source": [
    "G3_sparse = csr_matrix(G3_dense)\n",
    "print(G3_sparse)"
   ]
  },
  {
   "cell_type": "code",
   "execution_count": 22,
   "id": "97db638d-2dcc-42d6-9859-021df80a4438",
   "metadata": {
    "tags": []
   },
   "outputs": [
    {
     "name": "stdout",
     "output_type": "stream",
     "text": [
      "[[ 0.  3.  0.  5.]\n",
      " [ 4.  0.  4.  7.]\n",
      " [ 0.  3.  0.  9.]\n",
      " [ 5.  7. 11.  0.]]\n"
     ]
    }
   ],
   "source": [
    "G3_dense2 = csgraph.csgraph_to_dense(G3_sparse)\n",
    "print(G3_dense2)"
   ]
  }
 ],
 "metadata": {
  "kernelspec": {
   "display_name": "Python 3 (ipykernel)",
   "language": "python",
   "name": "python3"
  },
  "language_info": {
   "codemirror_mode": {
    "name": "ipython",
    "version": 3
   },
   "file_extension": ".py",
   "mimetype": "text/x-python",
   "name": "python",
   "nbconvert_exporter": "python",
   "pygments_lexer": "ipython3",
   "version": "3.11.3"
  }
 },
 "nbformat": 4,
 "nbformat_minor": 5
}
