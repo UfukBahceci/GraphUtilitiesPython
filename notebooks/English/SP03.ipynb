{
 "cells": [
  {
   "cell_type": "markdown",
   "id": "0833aa9b-c5ba-4ee1-b141-4daef5bf579e",
   "metadata": {},
   "source": [
    "To disable all warnings:"
   ]
  },
  {
   "cell_type": "code",
   "execution_count": 1,
   "id": "28634000-2e0c-4742-bc6e-c82f8e9863fd",
   "metadata": {
    "tags": []
   },
   "outputs": [],
   "source": [
    "import warnings\n",
    "warnings.filterwarnings('ignore')"
   ]
  },
  {
   "cell_type": "markdown",
   "id": "962e0c25-b2ae-44a3-b844-7eb4c7777902",
   "metadata": {},
   "source": [
    "# Longest Path Problem"
   ]
  },
  {
   "cell_type": "markdown",
   "id": "45a31669-1ba8-499e-89bd-1974511b87bd",
   "metadata": {},
   "source": [
    "In this tutorial we will solve longest path problem using the Python library \"NetworkX\". "
   ]
  },
  {
   "cell_type": "markdown",
   "id": "ffda7a95-9d6f-4c68-9849-a370e1993cc9",
   "metadata": {},
   "source": [
    "First, let's start by importing the libraries."
   ]
  },
  {
   "cell_type": "code",
   "execution_count": 2,
   "id": "d177c030-4bea-4348-9f69-1d7619c1c734",
   "metadata": {
    "tags": []
   },
   "outputs": [],
   "source": [
    "import numpy as np\n",
    "import networkx as nx"
   ]
  },
  {
   "cell_type": "markdown",
   "id": "8e3fe1cc-5330-404c-b3a2-7dba24d04381",
   "metadata": {},
   "source": [
    "# Problem 03"
   ]
  },
  {
   "cell_type": "markdown",
   "id": "ee87395f-9a13-4a2d-82ae-77b750d1a709",
   "metadata": {},
   "source": [
    "A project manager wants to estimate the duration of a project based on expected activity durations. For this purpose, draw the network diagram representing the problem, where activities are shown on arcs."
   ]
  },
  {
   "cell_type": "markdown",
   "id": "a874529c-34dc-414b-ad11-bdd4c2994a59",
   "metadata": {},
   "source": [
    "| Activity | Predecessor | Expected duration |\n",
    "| :-----: | :--: | :----: |\n",
    "| A | - | 5 |\n",
    "| B | - | 3 |\n",
    "| C | A,B | 4 |\n",
    "| D | C | 6 |\n",
    "| E | A | 4 |\n",
    "| F | D,E | 5 |\n"
   ]
  },
  {
   "cell_type": "markdown",
   "id": "bc36ba84-c746-4045-9e24-bf7872d1bbf8",
   "metadata": {},
   "source": [
    "The Python library \"NetworkX\" supports directed graphs with self loops through the class DiGraph."
   ]
  },
  {
   "cell_type": "code",
   "execution_count": 3,
   "id": "b002a9e4-7773-4679-878b-3580561a3f01",
   "metadata": {
    "tags": []
   },
   "outputs": [],
   "source": [
    "G1 = nx.DiGraph()\n",
    "G1.add_nodes_from([\n",
    "    (\"Start\", {\"color\": \"black\"}),\n",
    "    (\"A-E\", {\"color\": \"black\"}),\n",
    "    (\"AB-C\", {\"color\": \"black\"}),\n",
    "    (\"C-D\", {\"color\": \"black\"}),\n",
    "    (\"DE-F\", {\"color\": \"black\"}),\n",
    "    (\"End\", {\"color\": \"black\"}),\n",
    "])"
   ]
  },
  {
   "cell_type": "markdown",
   "id": "21bd4a96-56b0-4038-a4c8-ba52393c9508",
   "metadata": {},
   "source": [
    "Now, we can define the positions(as the coordinates \"x,y\" on a 2D plane) of the nodes(vertices)."
   ]
  },
  {
   "cell_type": "code",
   "execution_count": 4,
   "id": "015a0758-3658-4850-9ea2-50d32e095c67",
   "metadata": {
    "tags": []
   },
   "outputs": [],
   "source": [
    "nodepos = {\n",
    "    \"Start\":np.array([0.0,0.0]),\n",
    "    \"A-E\":np.array([1.0,1.0]),\n",
    "    \"AB-C\":np.array([2.0,0.0]),\n",
    "    \"C-D\":np.array([3.0,0.0]),\n",
    "    \"DE-F\":np.array([4.0,0.0]),\n",
    "    \"End\":np.array([5.0,0.0])\n",
    "}"
   ]
  },
  {
   "cell_type": "code",
   "execution_count": 5,
   "id": "cf19a1a7-ade7-4b47-9244-0e77971969cf",
   "metadata": {},
   "outputs": [
    {
     "data": {
      "text/plain": [
       "{('Start', 'A-E'): Text(0.5, 0.5, '5'),\n",
       " ('Start', 'AB-C'): Text(1.0, 0.0, '3'),\n",
       " ('A-E', 'DE-F'): Text(2.5, 0.5, '4'),\n",
       " ('A-E', 'AB-C'): Text(1.5, 0.5, '0'),\n",
       " ('AB-C', 'C-D'): Text(2.5, 0.0, '4'),\n",
       " ('C-D', 'DE-F'): Text(3.5, 0.0, '6'),\n",
       " ('DE-F', 'End'): Text(4.5, 0.0, '5')}"
      ]
     },
     "execution_count": 5,
     "metadata": {},
     "output_type": "execute_result"
    },
    {
     "data": {
      "image/png": "[encoded data removed]",
      "text/plain": [
       "<Figure size 640x480 with 1 Axes>"
      ]
     },
     "metadata": {},
     "output_type": "display_data"
    }
   ],
   "source": [
    "elist = [(\"Start\", \"A-E\"),\n",
    "         (\"Start\", \"AB-C\"),\n",
    "         (\"AB-C\", \"C-D\"),\n",
    "         (\"C-D\", \"DE-F\"),\n",
    "         (\"A-E\", \"DE-F\"),\n",
    "         (\"DE-F\", \"End\"),\n",
    "         (\"A-E\", \"AB-C\")]\n",
    "G1.add_edges_from(elist)\n",
    "eattrs = {(\"Start\", \"A-E\"): {\"weight\": 5},\n",
    "         (\"Start\", \"AB-C\"): {\"weight\": 3},\n",
    "         (\"AB-C\", \"C-D\"): {\"weight\": 4},\n",
    "         (\"C-D\", \"DE-F\"): {\"weight\": 6},\n",
    "         (\"A-E\", \"DE-F\"): {\"weight\": 4},\n",
    "         (\"DE-F\", \"End\"): {\"weight\": 5},\n",
    "         (\"A-E\", \"AB-C\"): {\"weight\": 0}}\n",
    "nx.set_edge_attributes(G1, eattrs)\n",
    "nx.draw_networkx_nodes(G1, pos = nodepos)\n",
    "nx.draw_networkx_labels(G1, pos = nodepos)\n",
    "nx.draw_networkx_edges(G1, pos = nodepos, edgelist=elist, arrows=True, connectionstyle='arc3, rad = 0')\n",
    "nx.draw_networkx_edge_labels(G1, pos = nodepos, edge_labels = nx.get_edge_attributes(G1,'weight'), label_pos = 0.5, verticalalignment = 'bottom')"
   ]
  },
  {
   "cell_type": "markdown",
   "id": "2673c171-67c6-4f72-a3e8-b80d23ee7f8e",
   "metadata": {},
   "source": [
    "To get information on the graph \"G1\":"
   ]
  },
  {
   "cell_type": "code",
   "execution_count": 6,
   "id": "ccf290e2-46b2-4d72-82d8-2bdd3ba6ce57",
   "metadata": {
    "tags": []
   },
   "outputs": [
    {
     "name": "stdout",
     "output_type": "stream",
     "text": [
      "DiGraph with 6 nodes and 7 edges\n"
     ]
    }
   ],
   "source": [
    "print(G1)"
   ]
  },
  {
   "cell_type": "markdown",
   "id": "1458cddf-57a6-4441-a047-05ecadbeaed2",
   "metadata": {},
   "source": [
    "To get the sparse adjacency matrix (in compressed sparse row format) of the graph \"G1\":"
   ]
  },
  {
   "cell_type": "code",
   "execution_count": 7,
   "id": "7c98415a-fda7-4a2b-b316-ea1b1546ec92",
   "metadata": {
    "tags": []
   },
   "outputs": [
    {
     "name": "stdout",
     "output_type": "stream",
     "text": [
      "  (0, 1)\t5\n",
      "  (0, 2)\t3\n",
      "  (1, 2)\t0\n",
      "  (1, 4)\t4\n",
      "  (2, 3)\t4\n",
      "  (3, 4)\t6\n",
      "  (4, 5)\t5\n"
     ]
    }
   ],
   "source": [
    "G1Adj = nx.adjacency_matrix(G1)\n",
    "print(G1Adj)"
   ]
  },
  {
   "cell_type": "markdown",
   "id": "35fbceb6-b738-47f9-82a9-c8117d900771",
   "metadata": {},
   "source": [
    "To have the adjacency matrix of the graph \"G1\" in dense form:"
   ]
  },
  {
   "cell_type": "code",
   "execution_count": 8,
   "id": "7fbd7d54-1ae0-463e-baca-9e45e41c5ae9",
   "metadata": {
    "tags": []
   },
   "outputs": [
    {
     "name": "stdout",
     "output_type": "stream",
     "text": [
      "[[0 5 3 0 0 0]\n",
      " [0 0 0 0 4 0]\n",
      " [0 0 0 4 0 0]\n",
      " [0 0 0 0 6 0]\n",
      " [0 0 0 0 0 5]\n",
      " [0 0 0 0 0 0]]\n"
     ]
    }
   ],
   "source": [
    "G1_dense = np.array(G1Adj.todense())\n",
    "print(G1_dense)"
   ]
  },
  {
   "cell_type": "code",
   "execution_count": 9,
   "id": "1c3dad2b-9c64-4d45-8ab7-5205cbfef039",
   "metadata": {
    "tags": []
   },
   "outputs": [
    {
     "name": "stdout",
     "output_type": "stream",
     "text": [
      "['Start', 'A-E', 'AB-C', 'C-D', 'DE-F', 'End']\n"
     ]
    }
   ],
   "source": [
    "criticalpath = nx.dag_longest_path(G1, weight = 'weight')\n",
    "print(criticalpath)"
   ]
  },
  {
   "cell_type": "code",
   "execution_count": 10,
   "id": "1939eb6a-425d-4d20-a60e-0e2c03d5369e",
   "metadata": {
    "tags": []
   },
   "outputs": [
    {
     "name": "stdout",
     "output_type": "stream",
     "text": [
      "20\n"
     ]
    }
   ],
   "source": [
    "projectduration = nx.dag_longest_path_length(G1, weight = 'weight')\n",
    "print(projectduration)"
   ]
  }
 ],
 "metadata": {
  "kernelspec": {
   "display_name": "Python 3 (ipykernel)",
   "language": "python",
   "name": "python3"
  },
  "language_info": {
   "codemirror_mode": {
    "name": "ipython",
    "version": 3
   },
   "file_extension": ".py",
   "mimetype": "text/x-python",
   "name": "python",
   "nbconvert_exporter": "python",
   "pygments_lexer": "ipython3",
   "version": "3.11.3"
  }
 },
 "nbformat": 4,
 "nbformat_minor": 5
}
