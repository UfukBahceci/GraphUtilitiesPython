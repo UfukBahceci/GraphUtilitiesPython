{
 "cells": [
  {
   "cell_type": "markdown",
   "id": "0833aa9b-c5ba-4ee1-b141-4daef5bf579e",
   "metadata": {},
   "source": [
    "To disable all warnings:"
   ]
  },
  {
   "cell_type": "code",
   "execution_count": 1,
   "id": "28634000-2e0c-4742-bc6e-c82f8e9863fd",
   "metadata": {
    "tags": []
   },
   "outputs": [],
   "source": [
    "import warnings\n",
    "warnings.filterwarnings('ignore')"
   ]
  },
  {
   "cell_type": "markdown",
   "id": "962e0c25-b2ae-44a3-b844-7eb4c7777902",
   "metadata": {},
   "source": [
    "# Minimum Spanning Tree Problem"
   ]
  },
  {
   "cell_type": "markdown",
   "id": "75d24c2c-8b04-4821-ad6d-f3a08a3dd6cc",
   "metadata": {},
   "source": [
    "In this tutorial, we will use the Python library \"GraphUtilitiesPython\" to generate graphs."
   ]
  },
  {
   "cell_type": "code",
   "execution_count": 2,
   "id": "9bbf8a0d-657f-46b6-9675-327cd01ae3ac",
   "metadata": {},
   "outputs": [],
   "source": [
    "import sys\n",
    "#sys.path.append(\"<InstallPath>\\GraphUtilitiesPython\")\n",
    "#To avoid character encoding issues:\n",
    "#for example, you can use \"\\U\" instead of \"U\"\n",
    "#or simply replace all \"\\\" by \"\\\\\"\n",
    "#for example,\n",
    "sys.path.append(\"C:\\\\Users\\\\user\\\\GraphUtilitiesPython\")"
   ]
  },
  {
   "cell_type": "code",
   "execution_count": 3,
   "id": "72bbef44-f3fc-49a3-b428-2551085b1fb7",
   "metadata": {},
   "outputs": [],
   "source": [
    "import numpy as np\n",
    "from graphutilitiespy import Drawing\n",
    "from graphutilitiespy import Graphs"
   ]
  },
  {
   "cell_type": "markdown",
   "id": "45a31669-1ba8-499e-89bd-1974511b87bd",
   "metadata": {},
   "source": [
    "The Python library \"NetworkX\" is required to solve the minimum spanning tree problem. "
   ]
  },
  {
   "cell_type": "code",
   "execution_count": 4,
   "id": "d177c030-4bea-4348-9f69-1d7619c1c734",
   "metadata": {
    "tags": []
   },
   "outputs": [],
   "source": [
    "import networkx as nx"
   ]
  },
  {
   "cell_type": "markdown",
   "id": "8e3fe1cc-5330-404c-b3a2-7dba24d04381",
   "metadata": {},
   "source": [
    "# Problem 02"
   ]
  },
  {
   "cell_type": "markdown",
   "id": "ee87395f-9a13-4a2d-82ae-77b750d1a709",
   "metadata": {},
   "source": [
    "A company wants to group its customers based on sales data from the last two years. The following data is intended to be analyzed based on total product sales(TQ) and turnover(TV).    "
   ]
  },
  {
   "cell_type": "markdown",
   "id": "95afae79-f386-49b7-8918-7ad93bae45d4",
   "metadata": {},
   "source": [
    "The Python libraries \"Pandas\" and \"Matplotlib\" are used to import and visualize data."
   ]
  },
  {
   "cell_type": "code",
   "execution_count": 5,
   "id": "16370c6b-6b1e-41a2-bc36-c647c52e2424",
   "metadata": {
    "tags": []
   },
   "outputs": [
    {
     "data": {
      "text/plain": [
       "<Axes: xlabel='Normalized_TQ', ylabel='Normalized_TV'>"
      ]
     },
     "execution_count": 5,
     "metadata": {},
     "output_type": "execute_result"
    },
    {
     "data": {
      "image/png": "[encoded data removed]",
      "text/plain": [
       "<Figure size 640x480 with 1 Axes>"
      ]
     },
     "metadata": {},
     "output_type": "display_data"
    }
   ],
   "source": [
    "import pandas as pd\n",
    "import matplotlib.pyplot as plt\n",
    "df  = pd.read_csv(\"SalesData.csv\")\n",
    "df.plot(kind='scatter',x='Normalized_TQ',y='Normalized_TV')"
   ]
  },
  {
   "cell_type": "markdown",
   "id": "21bd4a96-56b0-4038-a4c8-ba52393c9508",
   "metadata": {},
   "source": [
    "Now, we can define the positions(as the coordinates \"x,y\" on a 2D plane) of the nodes(vertices)."
   ]
  },
  {
   "cell_type": "code",
   "execution_count": 6,
   "id": "1243b0e9-5096-4132-b949-a6c62f0f8bdf",
   "metadata": {
    "tags": []
   },
   "outputs": [],
   "source": [
    "vertices = df[['Normalized_TQ', 'Normalized_TV']].dropna().to_numpy()\n",
    "nodepos = vertices"
   ]
  },
  {
   "cell_type": "code",
   "execution_count": 7,
   "id": "6ceef84a-a941-4773-b0fe-ee896f16c898",
   "metadata": {
    "tags": []
   },
   "outputs": [],
   "source": [
    "distancetype = 'Euclidian'\n",
    "drawnodes = False\n",
    "writeedgelabels = False"
   ]
  },
  {
   "cell_type": "code",
   "execution_count": 8,
   "id": "62384f10-de4e-461f-85e7-58fb81398774",
   "metadata": {},
   "outputs": [
    {
     "name": "stdout",
     "output_type": "stream",
     "text": [
      "Euclidian distance selected..\n",
      "\n",
      "Creating a complete simple graph..\n",
      "\n"
     ]
    }
   ],
   "source": [
    "G1 = Drawing.draw_completesimplegraph(vertices, nodepos, distancetype, drawnodes, writeedgelabels)"
   ]
  },
  {
   "cell_type": "markdown",
   "id": "2673c171-67c6-4f72-a3e8-b80d23ee7f8e",
   "metadata": {},
   "source": [
    "To get information on the graph \"G1\":"
   ]
  },
  {
   "cell_type": "code",
   "execution_count": 9,
   "id": "ccf290e2-46b2-4d72-82d8-2bdd3ba6ce57",
   "metadata": {
    "tags": []
   },
   "outputs": [
    {
     "name": "stdout",
     "output_type": "stream",
     "text": [
      "Graph with 500 nodes and 124750 edges\n"
     ]
    }
   ],
   "source": [
    "print(G1)"
   ]
  },
  {
   "cell_type": "markdown",
   "id": "1458cddf-57a6-4441-a047-05ecadbeaed2",
   "metadata": {},
   "source": [
    "To get the sparse adjacency matrix (in compressed sparse row format) of the graph \"G1\":"
   ]
  },
  {
   "cell_type": "code",
   "execution_count": 10,
   "id": "7c98415a-fda7-4a2b-b316-ea1b1546ec92",
   "metadata": {
    "tags": []
   },
   "outputs": [
    {
     "name": "stdout",
     "output_type": "stream",
     "text": [
      "  (0, 1)\t0.07\n",
      "  (0, 2)\t0.42\n",
      "  (0, 3)\t0.07\n",
      "  (0, 4)\t0.57\n",
      "  (0, 5)\t0.59\n",
      "  (0, 6)\t0.47\n",
      "  (0, 7)\t0.38\n",
      "  (0, 8)\t0.18\n",
      "  (0, 9)\t0.08\n",
      "  (0, 10)\t0.14\n",
      "  (0, 11)\t0.1\n",
      "  (0, 12)\t0.06\n",
      "  (0, 13)\t0.81\n",
      "  (0, 14)\t0.41\n",
      "  (0, 15)\t0.12\n",
      "  (0, 16)\t0.73\n",
      "  (0, 17)\t0.55\n",
      "  (0, 18)\t0.18\n",
      "  (0, 19)\t0.08\n",
      "  (0, 20)\t0.09\n",
      "  (0, 21)\t0.05\n",
      "  (0, 22)\t0.03\n",
      "  (0, 23)\t0.64\n",
      "  (0, 24)\t0.77\n",
      "  (0, 25)\t0.42\n",
      "  :\t:\n",
      "  (499, 474)\t0.85\n",
      "  (499, 475)\t0.15\n",
      "  (499, 476)\t0.5\n",
      "  (499, 477)\t0.54\n",
      "  (499, 478)\t0.54\n",
      "  (499, 479)\t0.1\n",
      "  (499, 480)\t0.06\n",
      "  (499, 481)\t0.69\n",
      "  (499, 482)\t0.53\n",
      "  (499, 483)\t0.69\n",
      "  (499, 484)\t0.45\n",
      "  (499, 485)\t0.8\n",
      "  (499, 486)\t0.52\n",
      "  (499, 487)\t0.42\n",
      "  (499, 488)\t0.17\n",
      "  (499, 489)\t0.08\n",
      "  (499, 490)\t0.5\n",
      "  (499, 491)\t0.53\n",
      "  (499, 492)\t1.04\n",
      "  (499, 493)\t0.84\n",
      "  (499, 494)\t1.0\n",
      "  (499, 495)\t0.07\n",
      "  (499, 496)\t0.44\n",
      "  (499, 497)\t0.01\n",
      "  (499, 498)\t0.46\n"
     ]
    }
   ],
   "source": [
    "G1Adj = nx.adjacency_matrix(G1)\n",
    "print(G1Adj)"
   ]
  },
  {
   "cell_type": "markdown",
   "id": "35fbceb6-b738-47f9-82a9-c8117d900771",
   "metadata": {},
   "source": [
    "To have the adjacency matrix of the graph \"G1\" in dense form:"
   ]
  },
  {
   "cell_type": "code",
   "execution_count": 11,
   "id": "7fbd7d54-1ae0-463e-baca-9e45e41c5ae9",
   "metadata": {
    "tags": []
   },
   "outputs": [
    {
     "name": "stdout",
     "output_type": "stream",
     "text": [
      "[[0.   0.07 0.42 ... 0.53 0.07 0.52]\n",
      " [0.07 0.   0.43 ... 0.54 0.08 0.53]\n",
      " [0.42 0.43 0.   ... 0.11 0.36 0.1 ]\n",
      " ...\n",
      " [0.53 0.54 0.11 ... 0.   0.47 0.01]\n",
      " [0.07 0.08 0.36 ... 0.47 0.   0.46]\n",
      " [0.52 0.53 0.1  ... 0.01 0.46 0.  ]]\n"
     ]
    }
   ],
   "source": [
    "G1_dense = np.array(G1Adj.todense())\n",
    "print(G1_dense)"
   ]
  },
  {
   "cell_type": "code",
   "execution_count": 12,
   "id": "1c3dad2b-9c64-4d45-8ab7-5205cbfef039",
   "metadata": {
    "tags": []
   },
   "outputs": [],
   "source": [
    "mst = nx.minimum_spanning_tree(G1, weight='weight')"
   ]
  },
  {
   "cell_type": "code",
   "execution_count": 13,
   "id": "37c787ed-0296-402f-a6fb-7faff6222270",
   "metadata": {
    "tags": []
   },
   "outputs": [
    {
     "data": {
      "image/png": "[encoded data removed]",
      "text/plain": [
       "<Figure size 640x480 with 1 Axes>"
      ]
     },
     "metadata": {},
     "output_type": "display_data"
    }
   ],
   "source": [
    "for l in mst.edges:\n",
    "    fromnode = l[0]\n",
    "    tonode = l[1]\n",
    "    xs = (nodepos[fromnode][0],nodepos[tonode][0])\n",
    "    ys = (nodepos[fromnode][1],nodepos[tonode][1])\n",
    "    line = [xs,ys]\n",
    "    plt.plot(*line, color=\"black\")"
   ]
  }
 ],
 "metadata": {
  "kernelspec": {
   "display_name": "Python 3 (ipykernel)",
   "language": "python",
   "name": "python3"
  },
  "language_info": {
   "codemirror_mode": {
    "name": "ipython",
    "version": 3
   },
   "file_extension": ".py",
   "mimetype": "text/x-python",
   "name": "python",
   "nbconvert_exporter": "python",
   "pygments_lexer": "ipython3",
   "version": "3.11.3"
  }
 },
 "nbformat": 4,
 "nbformat_minor": 5
}
