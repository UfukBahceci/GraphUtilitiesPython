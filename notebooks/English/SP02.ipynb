{
 "cells": [
  {
   "cell_type": "markdown",
   "id": "0833aa9b-c5ba-4ee1-b141-4daef5bf579e",
   "metadata": {},
   "source": [
    "To disable all warnings:"
   ]
  },
  {
   "cell_type": "code",
   "execution_count": 1,
   "id": "28634000-2e0c-4742-bc6e-c82f8e9863fd",
   "metadata": {
    "tags": []
   },
   "outputs": [],
   "source": [
    "import warnings\n",
    "warnings.filterwarnings('ignore')"
   ]
  },
  {
   "cell_type": "markdown",
   "id": "962e0c25-b2ae-44a3-b844-7eb4c7777902",
   "metadata": {},
   "source": [
    "# Longest Path Problem"
   ]
  },
  {
   "cell_type": "markdown",
   "id": "45a31669-1ba8-499e-89bd-1974511b87bd",
   "metadata": {},
   "source": [
    "In this tutorial we will solve longest path problem using the Python library \"NetworkX\". "
   ]
  },
  {
   "cell_type": "markdown",
   "id": "ffda7a95-9d6f-4c68-9849-a370e1993cc9",
   "metadata": {},
   "source": [
    "First, let's start by importing the libraries."
   ]
  },
  {
   "cell_type": "code",
   "execution_count": 2,
   "id": "d177c030-4bea-4348-9f69-1d7619c1c734",
   "metadata": {
    "tags": []
   },
   "outputs": [],
   "source": [
    "import numpy as np\n",
    "import networkx as nx"
   ]
  },
  {
   "cell_type": "markdown",
   "id": "8e3fe1cc-5330-404c-b3a2-7dba24d04381",
   "metadata": {},
   "source": [
    "# Problem 02"
   ]
  },
  {
   "cell_type": "markdown",
   "id": "ee87395f-9a13-4a2d-82ae-77b750d1a709",
   "metadata": {},
   "source": [
    "An investor has started to evaluate four projects for investment. The costs and returns of the projects are known. However, the investor's resources are limited to 350. The investor wants to decide which projects should be invested in."
   ]
  },
  {
   "cell_type": "markdown",
   "id": "a874529c-34dc-414b-ad11-bdd4c2994a59",
   "metadata": {},
   "source": [
    "| Project | Cost | Return |\n",
    "| :-----: | :--: | :----: |\n",
    "| A | 180 | 260 |\n",
    "| B | 250 | 370 |\n",
    "| C | 170 | 245 |\n",
    "| D | 210 | 300 |\n"
   ]
  },
  {
   "cell_type": "markdown",
   "id": "bc36ba84-c746-4045-9e24-bf7872d1bbf8",
   "metadata": {},
   "source": [
    "The Python library \"NetworkX\" supports directed graphs with self loops through the class DiGraph."
   ]
  },
  {
   "cell_type": "markdown",
   "id": "485584c9-bf19-459b-a4fd-79df8f39bf14",
   "metadata": {},
   "source": [
    "We will take the projects \"A\",\"B\",\"C\" and \"D\" as the stages of the problem, while the remaining fund will be the states of the problem."
   ]
  },
  {
   "cell_type": "code",
   "execution_count": 3,
   "id": "b002a9e4-7773-4679-878b-3580561a3f01",
   "metadata": {
    "tags": []
   },
   "outputs": [],
   "source": [
    "G1 = nx.DiGraph()\n",
    "G1.add_nodes_from([\n",
    "    (\"Start\", {\"color\": \"black\"}),\n",
    "    (\"A350\", {\"color\": \"black\"}), # do not invest in A (350-0=350)\n",
    "    (\"A170\", {\"color\": \"black\"}), # invest in A (350-180=170)\n",
    "    (\"B350\", {\"color\": \"black\"}),\n",
    "    (\"B100\", {\"color\": \"black\"}),\n",
    "    (\"B170\", {\"color\": \"black\"}),\n",
    "    (\"C350\", {\"color\": \"black\"}),\n",
    "    (\"C180\", {\"color\": \"black\"}),\n",
    "    (\"C100\", {\"color\": \"black\"}),\n",
    "    (\"C170\", {\"color\": \"black\"}),\n",
    "    (\"C0\", {\"color\": \"black\"}),\n",
    "    (\"D350\", {\"color\": \"black\"}),\n",
    "    (\"D140\", {\"color\": \"black\"}),\n",
    "    (\"D180\", {\"color\": \"black\"}),\n",
    "    (\"D100\", {\"color\": \"black\"}),\n",
    "    (\"D170\", {\"color\": \"black\"}),\n",
    "    (\"D0\", {\"color\": \"black\"}),\n",
    "    (\"End\", {\"color\": \"black\"}),\n",
    "])"
   ]
  },
  {
   "cell_type": "markdown",
   "id": "21bd4a96-56b0-4038-a4c8-ba52393c9508",
   "metadata": {},
   "source": [
    "Now, we can define the positions(as the coordinates \"x,y\" on a 2D plane) of the nodes(vertices)."
   ]
  },
  {
   "cell_type": "code",
   "execution_count": 4,
   "id": "015a0758-3658-4850-9ea2-50d32e095c67",
   "metadata": {
    "tags": []
   },
   "outputs": [],
   "source": [
    "nodepos = {\n",
    "    \"Start\":np.array([0.0,0.0]),\n",
    "    \"A350\":np.array([1.0,3.0]),\n",
    "    \"A170\":np.array([1.0,-3.0]),\n",
    "    \"B350\":np.array([2.0,3.0]),\n",
    "    \"B100\":np.array([2.0,0.0]),\n",
    "    \"B170\":np.array([2.0,-3.0]),\n",
    "    \"C350\":np.array([3.0,3.0]),\n",
    "    \"C180\":np.array([3.0,1.5]),\n",
    "    \"C100\":np.array([3.0,0.0]),\n",
    "    \"C170\":np.array([3.0,-1.5]),\n",
    "    \"C0\":np.array([3.0,-3.0]),\n",
    "    \"D350\":np.array([4.0,3.0]),\n",
    "    \"D140\":np.array([4.0,2.0]),\n",
    "    \"D180\":np.array([4.0,1.0]),\n",
    "    \"D100\":np.array([4.0,0.0]),\n",
    "    \"D170\":np.array([4.0,-1.0]),\n",
    "    \"D0\":np.array([4.0,-2.0]),\n",
    "    \"End\":np.array([5.0,0.0])\n",
    "}"
   ]
  },
  {
   "cell_type": "code",
   "execution_count": 5,
   "id": "cf19a1a7-ade7-4b47-9244-0e77971969cf",
   "metadata": {},
   "outputs": [
    {
     "data": {
      "text/plain": [
       "{('Start', 'A350'): Text(0.5, 1.5, '0'),\n",
       " ('Start', 'A170'): Text(0.5, -1.5, '80'),\n",
       " ('A350', 'B350'): Text(1.5, 3.0, '0'),\n",
       " ('A350', 'B100'): Text(1.5, 1.5, '120'),\n",
       " ('A170', 'B170'): Text(1.5, -3.0, '0'),\n",
       " ('B350', 'C350'): Text(2.5, 3.0, '0'),\n",
       " ('B350', 'C180'): Text(2.5, 2.25, '75'),\n",
       " ('B100', 'C100'): Text(2.5, 0.0, '0'),\n",
       " ('B170', 'C170'): Text(2.5, -2.25, '0'),\n",
       " ('B170', 'C0'): Text(2.5, -3.0, '75'),\n",
       " ('C350', 'D350'): Text(3.5, 3.0, '0'),\n",
       " ('C350', 'D140'): Text(3.5, 2.5, '90'),\n",
       " ('C180', 'D180'): Text(3.5, 1.25, '0'),\n",
       " ('C100', 'D100'): Text(3.5, 0.0, '0'),\n",
       " ('C170', 'D170'): Text(3.5, -1.25, '0'),\n",
       " ('C0', 'D0'): Text(3.5, -2.5, '0'),\n",
       " ('D350', 'End'): Text(4.5, 1.5, '0'),\n",
       " ('D140', 'End'): Text(4.5, 1.0, '0'),\n",
       " ('D180', 'End'): Text(4.5, 0.5, '0'),\n",
       " ('D100', 'End'): Text(4.5, 0.0, '0'),\n",
       " ('D170', 'End'): Text(4.5, -0.5, '0'),\n",
       " ('D0', 'End'): Text(4.5, -1.0, '0')}"
      ]
     },
     "execution_count": 5,
     "metadata": {},
     "output_type": "execute_result"
    },
    {
     "data": {
      "image/png": "[encoded data removed]",
      "text/plain": [
       "<Figure size 640x480 with 1 Axes>"
      ]
     },
     "metadata": {},
     "output_type": "display_data"
    }
   ],
   "source": [
    "elist = [(\"Start\", \"A350\"),\n",
    "         (\"Start\", \"A170\"),\n",
    "         (\"A350\", \"B350\"),\n",
    "         (\"A350\", \"B100\"),\n",
    "         (\"A170\", \"B170\"),\n",
    "         (\"B350\", \"C350\"),\n",
    "         (\"B350\", \"C180\"),\n",
    "         (\"B100\", \"C100\"),\n",
    "         (\"B170\", \"C170\"),\n",
    "         (\"B170\", \"C0\"),\n",
    "         (\"C350\", \"D350\"),\n",
    "         (\"C350\", \"D140\"),\n",
    "         (\"C180\", \"D180\"),\n",
    "         (\"C100\", \"D100\"),\n",
    "         (\"C170\", \"D170\"),\n",
    "         (\"C0\", \"D0\"),\n",
    "         (\"D350\", \"End\"),\n",
    "         (\"D140\", \"End\"),\n",
    "         (\"D180\", \"End\"),\n",
    "         (\"D100\", \"End\"),\n",
    "         (\"D170\", \"End\"),\n",
    "         (\"D0\", \"End\")]\n",
    "G1.add_edges_from(elist)\n",
    "eattrs = {(\"Start\", \"A350\"): {\"weight\": 0},\n",
    "         (\"Start\", \"A170\"): {\"weight\": 80},\n",
    "         (\"A350\", \"B350\"): {\"weight\": 0},\n",
    "         (\"A350\", \"B100\"): {\"weight\": 120},\n",
    "         (\"A170\", \"B170\"): {\"weight\": 0},\n",
    "         (\"B350\", \"C350\"): {\"weight\": 0},\n",
    "         (\"B350\", \"C180\"): {\"weight\": 75},\n",
    "         (\"B100\", \"C100\"): {\"weight\": 0},\n",
    "         (\"B170\", \"C170\"): {\"weight\": 0},\n",
    "         (\"B170\", \"C0\"): {\"weight\": 75},\n",
    "         (\"C350\", \"D350\"): {\"weight\": 0},\n",
    "         (\"C350\", \"D140\"): {\"weight\": 90},\n",
    "         (\"C180\", \"D180\"): {\"weight\": 0},\n",
    "         (\"C100\", \"D100\"): {\"weight\": 0},\n",
    "         (\"C170\", \"D170\"): {\"weight\": 0},\n",
    "         (\"C0\", \"D0\"): {\"weight\": 0},\n",
    "         (\"D350\", \"End\"): {\"weight\": 0},\n",
    "         (\"D140\", \"End\"): {\"weight\": 0},\n",
    "         (\"D180\", \"End\"): {\"weight\": 0},\n",
    "         (\"D100\", \"End\"): {\"weight\": 0},\n",
    "         (\"D170\", \"End\"): {\"weight\": 0},\n",
    "         (\"D0\", \"End\"): {\"weight\": 0}}\n",
    "nx.set_edge_attributes(G1, eattrs)\n",
    "nx.draw_networkx_nodes(G1, pos = nodepos)\n",
    "nx.draw_networkx_labels(G1, pos = nodepos)\n",
    "nx.draw_networkx_edges(G1, pos = nodepos, edgelist=elist, arrows=True, connectionstyle='arc3, rad = 0')\n",
    "nx.draw_networkx_edge_labels(G1, pos = nodepos, edge_labels = nx.get_edge_attributes(G1,'weight'), label_pos = 0.5, verticalalignment = 'bottom')"
   ]
  },
  {
   "cell_type": "markdown",
   "id": "2673c171-67c6-4f72-a3e8-b80d23ee7f8e",
   "metadata": {},
   "source": [
    "To get information on the graph \"G1\":"
   ]
  },
  {
   "cell_type": "code",
   "execution_count": 6,
   "id": "ccf290e2-46b2-4d72-82d8-2bdd3ba6ce57",
   "metadata": {
    "tags": []
   },
   "outputs": [
    {
     "name": "stdout",
     "output_type": "stream",
     "text": [
      "DiGraph with 18 nodes and 22 edges\n"
     ]
    }
   ],
   "source": [
    "print(G1)"
   ]
  },
  {
   "cell_type": "markdown",
   "id": "1458cddf-57a6-4441-a047-05ecadbeaed2",
   "metadata": {},
   "source": [
    "To get the sparse adjacency matrix (in compressed sparse row format) of the graph \"G1\":"
   ]
  },
  {
   "cell_type": "code",
   "execution_count": 7,
   "id": "7c98415a-fda7-4a2b-b316-ea1b1546ec92",
   "metadata": {
    "tags": []
   },
   "outputs": [
    {
     "name": "stdout",
     "output_type": "stream",
     "text": [
      "  (0, 1)\t0\n",
      "  (0, 2)\t80\n",
      "  (1, 3)\t0\n",
      "  (1, 4)\t120\n",
      "  (2, 5)\t0\n",
      "  (3, 6)\t0\n",
      "  (3, 7)\t75\n",
      "  (4, 8)\t0\n",
      "  (5, 9)\t0\n",
      "  (5, 10)\t75\n",
      "  (6, 11)\t0\n",
      "  (6, 12)\t90\n",
      "  (7, 13)\t0\n",
      "  (8, 14)\t0\n",
      "  (9, 15)\t0\n",
      "  (10, 16)\t0\n",
      "  (11, 17)\t0\n",
      "  (12, 17)\t0\n",
      "  (13, 17)\t0\n",
      "  (14, 17)\t0\n",
      "  (15, 17)\t0\n",
      "  (16, 17)\t0\n"
     ]
    }
   ],
   "source": [
    "G1Adj = nx.adjacency_matrix(G1)\n",
    "print(G1Adj)"
   ]
  },
  {
   "cell_type": "markdown",
   "id": "35fbceb6-b738-47f9-82a9-c8117d900771",
   "metadata": {},
   "source": [
    "To have the adjacency matrix of the graph \"G1\" in dense form:"
   ]
  },
  {
   "cell_type": "code",
   "execution_count": 8,
   "id": "7fbd7d54-1ae0-463e-baca-9e45e41c5ae9",
   "metadata": {
    "tags": []
   },
   "outputs": [
    {
     "name": "stdout",
     "output_type": "stream",
     "text": [
      "[[  0   0  80   0   0   0   0   0   0   0   0   0   0   0   0   0   0   0]\n",
      " [  0   0   0   0 120   0   0   0   0   0   0   0   0   0   0   0   0   0]\n",
      " [  0   0   0   0   0   0   0   0   0   0   0   0   0   0   0   0   0   0]\n",
      " [  0   0   0   0   0   0   0  75   0   0   0   0   0   0   0   0   0   0]\n",
      " [  0   0   0   0   0   0   0   0   0   0   0   0   0   0   0   0   0   0]\n",
      " [  0   0   0   0   0   0   0   0   0   0  75   0   0   0   0   0   0   0]\n",
      " [  0   0   0   0   0   0   0   0   0   0   0   0  90   0   0   0   0   0]\n",
      " [  0   0   0   0   0   0   0   0   0   0   0   0   0   0   0   0   0   0]\n",
      " [  0   0   0   0   0   0   0   0   0   0   0   0   0   0   0   0   0   0]\n",
      " [  0   0   0   0   0   0   0   0   0   0   0   0   0   0   0   0   0   0]\n",
      " [  0   0   0   0   0   0   0   0   0   0   0   0   0   0   0   0   0   0]\n",
      " [  0   0   0   0   0   0   0   0   0   0   0   0   0   0   0   0   0   0]\n",
      " [  0   0   0   0   0   0   0   0   0   0   0   0   0   0   0   0   0   0]\n",
      " [  0   0   0   0   0   0   0   0   0   0   0   0   0   0   0   0   0   0]\n",
      " [  0   0   0   0   0   0   0   0   0   0   0   0   0   0   0   0   0   0]\n",
      " [  0   0   0   0   0   0   0   0   0   0   0   0   0   0   0   0   0   0]\n",
      " [  0   0   0   0   0   0   0   0   0   0   0   0   0   0   0   0   0   0]\n",
      " [  0   0   0   0   0   0   0   0   0   0   0   0   0   0   0   0   0   0]]\n"
     ]
    }
   ],
   "source": [
    "G1_dense = np.array(G1Adj.todense())\n",
    "print(G1_dense)"
   ]
  },
  {
   "cell_type": "code",
   "execution_count": 9,
   "id": "1c3dad2b-9c64-4d45-8ab7-5205cbfef039",
   "metadata": {
    "tags": []
   },
   "outputs": [
    {
     "name": "stdout",
     "output_type": "stream",
     "text": [
      "['Start', 'A170', 'B170', 'C0']\n"
     ]
    }
   ],
   "source": [
    "path = nx.dag_longest_path(G1, weight = 'weight')\n",
    "print(path)"
   ]
  },
  {
   "cell_type": "code",
   "execution_count": 10,
   "id": "1939eb6a-425d-4d20-a60e-0e2c03d5369e",
   "metadata": {
    "tags": []
   },
   "outputs": [
    {
     "name": "stdout",
     "output_type": "stream",
     "text": [
      "155\n"
     ]
    }
   ],
   "source": [
    "totalprofit = nx.dag_longest_path_length(G1, weight = 'weight')\n",
    "print(totalprofit)"
   ]
  }
 ],
 "metadata": {
  "kernelspec": {
   "display_name": "Python 3 (ipykernel)",
   "language": "python",
   "name": "python3"
  },
  "language_info": {
   "codemirror_mode": {
    "name": "ipython",
    "version": 3
   },
   "file_extension": ".py",
   "mimetype": "text/x-python",
   "name": "python",
   "nbconvert_exporter": "python",
   "pygments_lexer": "ipython3",
   "version": "3.11.3"
  }
 },
 "nbformat": 4,
 "nbformat_minor": 5
}
