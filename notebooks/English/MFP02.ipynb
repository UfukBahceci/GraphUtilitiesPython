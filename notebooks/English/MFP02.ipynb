{
 "cells": [
  {
   "cell_type": "markdown",
   "id": "0833aa9b-c5ba-4ee1-b141-4daef5bf579e",
   "metadata": {},
   "source": [
    "To disable all warnings:"
   ]
  },
  {
   "cell_type": "code",
   "execution_count": 1,
   "id": "28634000-2e0c-4742-bc6e-c82f8e9863fd",
   "metadata": {
    "tags": []
   },
   "outputs": [],
   "source": [
    "import warnings\n",
    "warnings.filterwarnings('ignore')"
   ]
  },
  {
   "cell_type": "markdown",
   "id": "962e0c25-b2ae-44a3-b844-7eb4c7777902",
   "metadata": {},
   "source": [
    "# Maximum Flow Problem"
   ]
  },
  {
   "cell_type": "markdown",
   "id": "45a31669-1ba8-499e-89bd-1974511b87bd",
   "metadata": {},
   "source": [
    "In this tutorial we will solve maximum flow problem using the Python library \"NetworkX\". "
   ]
  },
  {
   "cell_type": "markdown",
   "id": "ffda7a95-9d6f-4c68-9849-a370e1993cc9",
   "metadata": {},
   "source": [
    "First, let's start by importing the libraries."
   ]
  },
  {
   "cell_type": "code",
   "execution_count": 2,
   "id": "d177c030-4bea-4348-9f69-1d7619c1c734",
   "metadata": {
    "tags": []
   },
   "outputs": [],
   "source": [
    "import numpy as np\n",
    "import networkx as nx"
   ]
  },
  {
   "cell_type": "markdown",
   "id": "8e3fe1cc-5330-404c-b3a2-7dba24d04381",
   "metadata": {},
   "source": [
    "# Problem 02"
   ]
  },
  {
   "cell_type": "markdown",
   "id": "ee87395f-9a13-4a2d-82ae-77b750d1a709",
   "metadata": {},
   "source": [
    "A human resources company wants to create a team with the desired characteristics among the candidates registered in its database to be assigned to an event. A candidate can only work in one position. The requirements are listed below."
   ]
  },
  {
   "cell_type": "markdown",
   "id": "a874529c-34dc-414b-ad11-bdd4c2994a59",
   "metadata": {},
   "source": [
    "| Candidate | Positions | Experience group |\n",
    "| :--: | :--: | :--: |\n",
    "| 1 | I, II | A |\n",
    "| 2 | II, IV | B |\n",
    "| 3 | I | A |\n",
    "| 4 | III | C |\n",
    "| 5 | III, IV | C |\n",
    "| 6 | II, IV | A |\n",
    "| 7 | III, IV | B |\n",
    "| 8 | I | C |\n",
    "| 9 | II | B |\n",
    "| 10 | I, II | B |"
   ]
  },
  {
   "cell_type": "markdown",
   "id": "909b73b4-d16f-4a04-97d9-28fcd1d007ef",
   "metadata": {},
   "source": [
    "| Positions | Requirements |\n",
    "| :--: | :--: |\n",
    "| I | 2 |\n",
    "| II | 1 |\n",
    "| III | 2 |\n",
    "| IV | 1 |"
   ]
  },
  {
   "cell_type": "markdown",
   "id": "b4a190e9-a12d-4f38-9240-c311e37a2c38",
   "metadata": {},
   "source": [
    "| Experience group | Requirements |\n",
    "| :--: | :--: |\n",
    "| A | 1 |\n",
    "| B | 2 |\n",
    "| C | 3 |"
   ]
  },
  {
   "cell_type": "markdown",
   "id": "bc36ba84-c746-4045-9e24-bf7872d1bbf8",
   "metadata": {},
   "source": [
    "The Python library \"NetworkX\" supports directed graphs with self loops through the class DiGraph."
   ]
  },
  {
   "cell_type": "code",
   "execution_count": 3,
   "id": "b002a9e4-7773-4679-878b-3580561a3f01",
   "metadata": {
    "tags": []
   },
   "outputs": [],
   "source": [
    "G1 = nx.DiGraph()\n",
    "G1.add_nodes_from([\n",
    "    (\"Start\", {\"color\": \"black\"}),\n",
    "    (\"I\", {\"color\": \"black\"}),\n",
    "    (\"II\", {\"color\": \"black\"}),\n",
    "    (\"III\", {\"color\": \"black\"}),\n",
    "    (\"IV\", {\"color\": \"black\"}),\n",
    "    (\"1\", {\"color\": \"black\"}),\n",
    "    (\"2\", {\"color\": \"black\"}),\n",
    "    (\"3\", {\"color\": \"black\"}),\n",
    "    (\"4\", {\"color\": \"black\"}),\n",
    "    (\"5\", {\"color\": \"black\"}),\n",
    "    (\"6\", {\"color\": \"black\"}),\n",
    "    (\"7\", {\"color\": \"black\"}),\n",
    "    (\"8\", {\"color\": \"black\"}),\n",
    "    (\"9\", {\"color\": \"black\"}),\n",
    "    (\"10\", {\"color\": \"black\"}),\n",
    "    (\"A\", {\"color\": \"black\"}),\n",
    "    (\"B\", {\"color\": \"black\"}),\n",
    "    (\"C\", {\"color\": \"black\"}),\n",
    "    (\"End\", {\"color\": \"black\"}),\n",
    "])"
   ]
  },
  {
   "cell_type": "markdown",
   "id": "21bd4a96-56b0-4038-a4c8-ba52393c9508",
   "metadata": {},
   "source": [
    "Now, we can define the positions(as the coordinates \"x,y\" on a 2D plane) of the nodes(vertices)."
   ]
  },
  {
   "cell_type": "code",
   "execution_count": 4,
   "id": "015a0758-3658-4850-9ea2-50d32e095c67",
   "metadata": {
    "tags": []
   },
   "outputs": [],
   "source": [
    "nodepos = {\n",
    "    \"Start\":np.array([0.0,0.0]),\n",
    "    \"I\":np.array([1.0,1.5]),\n",
    "    \"II\":np.array([1.0,0.5]),\n",
    "    \"III\":np.array([1.0,-0.5]),\n",
    "    \"IV\":np.array([1.0,-1.5]),\n",
    "    \"1\":np.array([2.0,4.5]),\n",
    "    \"2\":np.array([2.0,3.5]),\n",
    "    \"3\":np.array([2.0,2.5]),\n",
    "    \"4\":np.array([2.0,1.5]),\n",
    "    \"5\":np.array([2.0,0.5]),\n",
    "    \"6\":np.array([2.0,-0.5]),\n",
    "    \"7\":np.array([2.0,-1.5]),\n",
    "    \"8\":np.array([2.0,-2.5]),\n",
    "    \"9\":np.array([2.0,-3.5]),\n",
    "    \"10\":np.array([2.0,-4.5]),\n",
    "    \"A\":np.array([3.0,1.0]),\n",
    "    \"B\":np.array([3.0,0.0]),\n",
    "    \"C\":np.array([3.0,-1.0]),\n",
    "    \"End\":np.array([4.0,0.0])\n",
    "}"
   ]
  },
  {
   "cell_type": "code",
   "execution_count": 5,
   "id": "cf19a1a7-ade7-4b47-9244-0e77971969cf",
   "metadata": {},
   "outputs": [
    {
     "data": {
      "text/plain": [
       "[<matplotlib.patches.FancyArrowPatch at 0x158ceeda450>,\n",
       " <matplotlib.patches.FancyArrowPatch at 0x158ce7dff10>,\n",
       " <matplotlib.patches.FancyArrowPatch at 0x158ceea2bd0>,\n",
       " <matplotlib.patches.FancyArrowPatch at 0x158ceedbf10>,\n",
       " <matplotlib.patches.FancyArrowPatch at 0x158cedda150>,\n",
       " <matplotlib.patches.FancyArrowPatch at 0x158ceed9690>,\n",
       " <matplotlib.patches.FancyArrowPatch at 0x158cee20c10>,\n",
       " <matplotlib.patches.FancyArrowPatch at 0x158ceeb0e10>,\n",
       " <matplotlib.patches.FancyArrowPatch at 0x158ceedbfd0>,\n",
       " <matplotlib.patches.FancyArrowPatch at 0x158cee6ff90>,\n",
       " <matplotlib.patches.FancyArrowPatch at 0x158cee6f190>,\n",
       " <matplotlib.patches.FancyArrowPatch at 0x158cee86490>,\n",
       " <matplotlib.patches.FancyArrowPatch at 0x158cee7cf50>,\n",
       " <matplotlib.patches.FancyArrowPatch at 0x158cee6e8d0>,\n",
       " <matplotlib.patches.FancyArrowPatch at 0x158cfec7fd0>,\n",
       " <matplotlib.patches.FancyArrowPatch at 0x158cee7c750>,\n",
       " <matplotlib.patches.FancyArrowPatch at 0x158ceebd390>,\n",
       " <matplotlib.patches.FancyArrowPatch at 0x158cfec5f50>,\n",
       " <matplotlib.patches.FancyArrowPatch at 0x158cfec60d0>,\n",
       " <matplotlib.patches.FancyArrowPatch at 0x158ceed9790>,\n",
       " <matplotlib.patches.FancyArrowPatch at 0x158ceea3690>,\n",
       " <matplotlib.patches.FancyArrowPatch at 0x158cfee3c50>,\n",
       " <matplotlib.patches.FancyArrowPatch at 0x158cfed6990>,\n",
       " <matplotlib.patches.FancyArrowPatch at 0x158cfec7250>,\n",
       " <matplotlib.patches.FancyArrowPatch at 0x158cfec7450>,\n",
       " <matplotlib.patches.FancyArrowPatch at 0x158cfee3910>,\n",
       " <matplotlib.patches.FancyArrowPatch at 0x158ceedb710>,\n",
       " <matplotlib.patches.FancyArrowPatch at 0x158ce5ace10>,\n",
       " <matplotlib.patches.FancyArrowPatch at 0x158ced5bad0>,\n",
       " <matplotlib.patches.FancyArrowPatch at 0x158cfed6290>,\n",
       " <matplotlib.patches.FancyArrowPatch at 0x158cee6ed90>,\n",
       " <matplotlib.patches.FancyArrowPatch at 0x158cfec7550>,\n",
       " <matplotlib.patches.FancyArrowPatch at 0x158cee7ce50>]"
      ]
     },
     "execution_count": 5,
     "metadata": {},
     "output_type": "execute_result"
    },
    {
     "data": {
      "image/png": "[encoded data removed]",
      "text/plain": [
       "<Figure size 640x480 with 1 Axes>"
      ]
     },
     "metadata": {},
     "output_type": "display_data"
    }
   ],
   "source": [
    "elist = [(\"Start\", \"I\"),\n",
    "         (\"Start\", \"II\"),\n",
    "         (\"Start\", \"III\"),\n",
    "         (\"Start\", \"IV\"),\n",
    "         (\"I\", \"1\"),\n",
    "         (\"I\", \"3\"),\n",
    "         (\"I\", \"8\"),\n",
    "         (\"I\", \"10\"),\n",
    "         (\"II\", \"1\"),\n",
    "         (\"II\", \"2\"),\n",
    "         (\"II\", \"6\"),\n",
    "         (\"II\", \"9\"),\n",
    "         (\"II\", \"10\"),\n",
    "         (\"III\", \"4\"),\n",
    "         (\"III\", \"5\"),\n",
    "         (\"III\", \"7\"),\n",
    "         (\"IV\", \"2\"),\n",
    "         (\"IV\", \"5\"),\n",
    "         (\"IV\", \"6\"),\n",
    "         (\"IV\", \"7\"),\n",
    "         (\"1\", \"A\"),\n",
    "         (\"2\", \"B\"),\n",
    "         (\"3\", \"A\"),\n",
    "         (\"4\", \"C\"),\n",
    "         (\"5\", \"C\"),\n",
    "         (\"6\", \"A\"),\n",
    "         (\"7\", \"B\"),\n",
    "         (\"8\", \"C\"),\n",
    "         (\"9\", \"B\"),\n",
    "         (\"10\", \"B\"),\n",
    "         (\"A\", \"End\"),\n",
    "         (\"B\", \"End\"),\n",
    "         (\"C\", \"End\")]\n",
    "G1.add_edges_from(elist)\n",
    "eattrs = {(\"Start\", \"I\"): {\"capacity\": 2},\n",
    "          (\"Start\", \"II\"): {\"capacity\": 1},\n",
    "          (\"Start\", \"III\"): {\"capacity\": 2},\n",
    "          (\"Start\", \"IV\"): {\"capacity\": 1},\n",
    "          (\"I\", \"1\"): {\"capacity\": 1},\n",
    "          (\"I\", \"3\"): {\"capacity\": 1},\n",
    "          (\"I\", \"8\"): {\"capacity\": 1},\n",
    "          (\"I\", \"10\"): {\"capacity\": 1},\n",
    "          (\"II\", \"1\"): {\"capacity\": 1},\n",
    "          (\"II\", \"2\"): {\"capacity\": 1},\n",
    "          (\"II\", \"6\"): {\"capacity\": 1},\n",
    "          (\"II\", \"9\"): {\"capacity\": 1},\n",
    "          (\"II\", \"10\"): {\"capacity\": 1},\n",
    "          (\"III\", \"4\"): {\"capacity\": 1},\n",
    "          (\"III\", \"5\"): {\"capacity\": 1},\n",
    "          (\"III\", \"7\"): {\"capacity\": 1},\n",
    "          (\"IV\", \"2\"): {\"capacity\": 1},\n",
    "          (\"IV\", \"5\"): {\"capacity\": 1},\n",
    "          (\"IV\", \"6\"): {\"capacity\": 1},\n",
    "          (\"IV\", \"7\"): {\"capacity\": 1},\n",
    "          (\"1\", \"A\"): {\"capacity\": 1},\n",
    "          (\"2\", \"B\"): {\"capacity\": 1},\n",
    "          (\"3\", \"A\"): {\"capacity\": 1},\n",
    "          (\"4\", \"C\"): {\"capacity\": 1},\n",
    "          (\"5\", \"C\"): {\"capacity\": 1},\n",
    "          (\"6\", \"A\"): {\"capacity\": 1},\n",
    "          (\"7\", \"B\"): {\"capacity\": 1},\n",
    "          (\"9\", \"B\"): {\"capacity\": 1},\n",
    "          (\"10\", \"B\"): {\"capacity\": 1},\n",
    "          (\"A\", \"End\"): {\"capacity\": 1},\n",
    "          (\"B\", \"End\"): {\"capacity\": 2},\n",
    "          (\"C\", \"End\"): {\"capacity\": 3}}\n",
    "nx.set_edge_attributes(G1, eattrs)\n",
    "nx.draw_networkx_nodes(G1, pos = nodepos)\n",
    "nx.draw_networkx_labels(G1, pos = nodepos)\n",
    "nx.draw_networkx_edges(G1, pos = nodepos, edgelist=elist, arrows=True, connectionstyle='arc3, rad = 0')\n",
    "#nx.draw_networkx_edge_labels(G1, pos = nodepos, edge_labels = nx.get_edge_attributes(G1,'capacity'), label_pos = 0.5)"
   ]
  },
  {
   "cell_type": "markdown",
   "id": "2673c171-67c6-4f72-a3e8-b80d23ee7f8e",
   "metadata": {},
   "source": [
    "To get information on the graph \"G1\":"
   ]
  },
  {
   "cell_type": "code",
   "execution_count": 6,
   "id": "ccf290e2-46b2-4d72-82d8-2bdd3ba6ce57",
   "metadata": {
    "tags": []
   },
   "outputs": [
    {
     "name": "stdout",
     "output_type": "stream",
     "text": [
      "DiGraph with 19 nodes and 33 edges\n"
     ]
    }
   ],
   "source": [
    "print(G1)"
   ]
  },
  {
   "cell_type": "markdown",
   "id": "1458cddf-57a6-4441-a047-05ecadbeaed2",
   "metadata": {},
   "source": [
    "To get the sparse adjacency matrix (in compressed sparse row format) of the graph \"G1\":"
   ]
  },
  {
   "cell_type": "code",
   "execution_count": 7,
   "id": "7c98415a-fda7-4a2b-b316-ea1b1546ec92",
   "metadata": {
    "tags": []
   },
   "outputs": [
    {
     "name": "stdout",
     "output_type": "stream",
     "text": [
      "  (0, 1)\t1\n",
      "  (0, 2)\t1\n",
      "  (0, 3)\t1\n",
      "  (0, 4)\t1\n",
      "  (1, 5)\t1\n",
      "  (1, 7)\t1\n",
      "  (1, 12)\t1\n",
      "  (1, 14)\t1\n",
      "  (2, 5)\t1\n",
      "  (2, 6)\t1\n",
      "  (2, 10)\t1\n",
      "  (2, 13)\t1\n",
      "  (2, 14)\t1\n",
      "  (3, 8)\t1\n",
      "  (3, 9)\t1\n",
      "  (3, 11)\t1\n",
      "  (4, 6)\t1\n",
      "  (4, 9)\t1\n",
      "  (4, 10)\t1\n",
      "  (4, 11)\t1\n",
      "  (5, 15)\t1\n",
      "  (6, 16)\t1\n",
      "  (7, 15)\t1\n",
      "  (8, 17)\t1\n",
      "  (9, 17)\t1\n",
      "  (10, 15)\t1\n",
      "  (11, 16)\t1\n",
      "  (12, 17)\t1\n",
      "  (13, 16)\t1\n",
      "  (14, 16)\t1\n",
      "  (15, 18)\t1\n",
      "  (16, 18)\t1\n",
      "  (17, 18)\t1\n"
     ]
    }
   ],
   "source": [
    "G1Adj = nx.adjacency_matrix(G1)\n",
    "print(G1Adj)"
   ]
  },
  {
   "cell_type": "markdown",
   "id": "35fbceb6-b738-47f9-82a9-c8117d900771",
   "metadata": {},
   "source": [
    "To have the adjacency matrix of the graph \"G1\" in dense form:"
   ]
  },
  {
   "cell_type": "code",
   "execution_count": 8,
   "id": "7fbd7d54-1ae0-463e-baca-9e45e41c5ae9",
   "metadata": {
    "tags": []
   },
   "outputs": [
    {
     "name": "stdout",
     "output_type": "stream",
     "text": [
      "[[0 1 1 1 1 0 0 0 0 0 0 0 0 0 0 0 0 0 0]\n",
      " [0 0 0 0 0 1 0 1 0 0 0 0 1 0 1 0 0 0 0]\n",
      " [0 0 0 0 0 1 1 0 0 0 1 0 0 1 1 0 0 0 0]\n",
      " [0 0 0 0 0 0 0 0 1 1 0 1 0 0 0 0 0 0 0]\n",
      " [0 0 0 0 0 0 1 0 0 1 1 1 0 0 0 0 0 0 0]\n",
      " [0 0 0 0 0 0 0 0 0 0 0 0 0 0 0 1 0 0 0]\n",
      " [0 0 0 0 0 0 0 0 0 0 0 0 0 0 0 0 1 0 0]\n",
      " [0 0 0 0 0 0 0 0 0 0 0 0 0 0 0 1 0 0 0]\n",
      " [0 0 0 0 0 0 0 0 0 0 0 0 0 0 0 0 0 1 0]\n",
      " [0 0 0 0 0 0 0 0 0 0 0 0 0 0 0 0 0 1 0]\n",
      " [0 0 0 0 0 0 0 0 0 0 0 0 0 0 0 1 0 0 0]\n",
      " [0 0 0 0 0 0 0 0 0 0 0 0 0 0 0 0 1 0 0]\n",
      " [0 0 0 0 0 0 0 0 0 0 0 0 0 0 0 0 0 1 0]\n",
      " [0 0 0 0 0 0 0 0 0 0 0 0 0 0 0 0 1 0 0]\n",
      " [0 0 0 0 0 0 0 0 0 0 0 0 0 0 0 0 1 0 0]\n",
      " [0 0 0 0 0 0 0 0 0 0 0 0 0 0 0 0 0 0 1]\n",
      " [0 0 0 0 0 0 0 0 0 0 0 0 0 0 0 0 0 0 1]\n",
      " [0 0 0 0 0 0 0 0 0 0 0 0 0 0 0 0 0 0 1]\n",
      " [0 0 0 0 0 0 0 0 0 0 0 0 0 0 0 0 0 0 0]]\n"
     ]
    }
   ],
   "source": [
    "G1_dense = np.array(G1Adj.todense())\n",
    "print(G1_dense)"
   ]
  },
  {
   "cell_type": "code",
   "execution_count": 9,
   "id": "1c3dad2b-9c64-4d45-8ab7-5205cbfef039",
   "metadata": {
    "tags": []
   },
   "outputs": [
    {
     "name": "stdout",
     "output_type": "stream",
     "text": [
      "{'Start': {'I': 2, 'II': 1, 'III': 2, 'IV': 1}, 'I': {'1': 0, '3': 0, '8': 1, '10': 1}, 'II': {'1': 1, '2': 0, '6': 0, '9': 0, '10': 0}, 'III': {'4': 1, '5': 1, '7': 0}, 'IV': {'2': 1, '5': 0, '6': 0, '7': 0}, '1': {'A': 1}, '2': {'B': 1}, '3': {'A': 0}, '4': {'C': 1}, '5': {'C': 1}, '6': {'A': 0}, '7': {'B': 0}, '8': {'C': 1}, '9': {'B': 0}, '10': {'B': 1}, 'A': {'End': 1}, 'B': {'End': 2}, 'C': {'End': 3}, 'End': {}}\n"
     ]
    }
   ],
   "source": [
    "maxflow_value, flows = nx.maximum_flow(G1, \"Start\", \"End\")\n",
    "print(flows)"
   ]
  },
  {
   "cell_type": "code",
   "execution_count": 10,
   "id": "1939eb6a-425d-4d20-a60e-0e2c03d5369e",
   "metadata": {
    "tags": []
   },
   "outputs": [
    {
     "name": "stdout",
     "output_type": "stream",
     "text": [
      "6\n"
     ]
    }
   ],
   "source": [
    "print(maxflow_value)"
   ]
  },
  {
   "cell_type": "markdown",
   "id": "b3688031-82b6-421e-bb94-7edee5458daa",
   "metadata": {},
   "source": [
    "| Candidate | Positions | Experience group |\n",
    "| :--: | :--: | :--: |\n",
    "| 1* | I, II | A |\n",
    "| 2* | II, IV | B |\n",
    "| 3 | I | A |\n",
    "| 4* | III | C |\n",
    "| 5* | III, IV | C |\n",
    "| 6 | II, IV | A |\n",
    "| 7 | III, IV | B |\n",
    "| 8* | I | C |\n",
    "| 9 | II | B |\n",
    "| 10* | I, II | B |"
   ]
  }
 ],
 "metadata": {
  "kernelspec": {
   "display_name": "Python 3 (ipykernel)",
   "language": "python",
   "name": "python3"
  },
  "language_info": {
   "codemirror_mode": {
    "name": "ipython",
    "version": 3
   },
   "file_extension": ".py",
   "mimetype": "text/x-python",
   "name": "python",
   "nbconvert_exporter": "python",
   "pygments_lexer": "ipython3",
   "version": "3.11.3"
  }
 },
 "nbformat": 4,
 "nbformat_minor": 5
}
