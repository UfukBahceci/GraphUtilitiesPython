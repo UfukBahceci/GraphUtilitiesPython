{
 "cells": [
  {
   "cell_type": "markdown",
   "id": "0833aa9b-c5ba-4ee1-b141-4daef5bf579e",
   "metadata": {},
   "source": [
    "To disable all warnings:"
   ]
  },
  {
   "cell_type": "code",
   "execution_count": 1,
   "id": "28634000-2e0c-4742-bc6e-c82f8e9863fd",
   "metadata": {
    "tags": []
   },
   "outputs": [],
   "source": [
    "import warnings\n",
    "warnings.filterwarnings('ignore')"
   ]
  },
  {
   "cell_type": "markdown",
   "id": "962e0c25-b2ae-44a3-b844-7eb4c7777902",
   "metadata": {},
   "source": [
    "# Max-Flow Min-Cut Problem"
   ]
  },
  {
   "cell_type": "markdown",
   "id": "45a31669-1ba8-499e-89bd-1974511b87bd",
   "metadata": {},
   "source": [
    "In this tutorial, the Python library \"NetworkX\" is required to solve the max-flow min-cut problem. "
   ]
  },
  {
   "cell_type": "code",
   "execution_count": 2,
   "id": "d177c030-4bea-4348-9f69-1d7619c1c734",
   "metadata": {
    "tags": []
   },
   "outputs": [],
   "source": [
    "import numpy as np\n",
    "import networkx as nx"
   ]
  },
  {
   "cell_type": "markdown",
   "id": "8e3fe1cc-5330-404c-b3a2-7dba24d04381",
   "metadata": {},
   "source": [
    "# Problem 01"
   ]
  },
  {
   "cell_type": "markdown",
   "id": "ee87395f-9a13-4a2d-82ae-77b750d1a709",
   "metadata": {},
   "source": [
    "A transportation company wants to invest in its infrastructure to increase the resilience of its transportation system. In particular, negative feedback was received from passengers who wanted to set off from point A and reach point F about the inadequacy of the transportation system during busy times. The company is looking for a way to solve this problem. For this purpose, a number of directed paths from A to F are identified. Information on the transportation network, including residual (excluding flows from A to F) line capacities during busy times, is summarized below:"
   ]
  },
  {
   "cell_type": "markdown",
   "id": "a874529c-34dc-414b-ad11-bdd4c2994a59",
   "metadata": {},
   "source": [
    "| From |  To | Capacity |\n",
    "| :--: | :-: | :------: |\n",
    "| A | B | 30 |\n",
    "| A | C | 40 | \n",
    "| B | C | 65 |\n",
    "| B | D | 25 |\n",
    "| C | D | 10 |\n",
    "| D | E | 35 |\n",
    "| E | F | 20 |\n",
    "| D | F | 30 |"
   ]
  },
  {
   "cell_type": "markdown",
   "id": "bc36ba84-c746-4045-9e24-bf7872d1bbf8",
   "metadata": {},
   "source": [
    "The Python library \"NetworkX\" supports directed graphs with self loops through the class DiGraph."
   ]
  },
  {
   "cell_type": "code",
   "execution_count": 3,
   "id": "b002a9e4-7773-4679-878b-3580561a3f01",
   "metadata": {
    "tags": []
   },
   "outputs": [],
   "source": [
    "G1 = nx.DiGraph()\n",
    "G1.add_nodes_from([\n",
    "    (\"A\", {\"color\": \"black\"}),\n",
    "    (\"B\", {\"color\": \"black\"}),\n",
    "    (\"C\", {\"color\": \"black\"}),\n",
    "    (\"D\", {\"color\": \"black\"}),\n",
    "    (\"E\", {\"color\": \"black\"}),\n",
    "    (\"F\", {\"color\": \"black\"}),\n",
    "])"
   ]
  },
  {
   "cell_type": "markdown",
   "id": "21bd4a96-56b0-4038-a4c8-ba52393c9508",
   "metadata": {},
   "source": [
    "Now, we can define the positions(as the coordinates \"x,y\" on a 2D plane) of the nodes(vertices)."
   ]
  },
  {
   "cell_type": "code",
   "execution_count": 4,
   "id": "015a0758-3658-4850-9ea2-50d32e095c67",
   "metadata": {
    "tags": []
   },
   "outputs": [],
   "source": [
    "nodepos = {\n",
    "    \"A\":np.array([0.0,0.0]),\n",
    "    \"B\":np.array([-1.0,1.0]),\n",
    "    \"C\":np.array([0.0,2.0]),\n",
    "    \"D\":np.array([-1.0,3.0]),\n",
    "    \"E\":np.array([-1.0,4.0]),\n",
    "    \"F\":np.array([0.0,5.0])\n",
    "}"
   ]
  },
  {
   "cell_type": "code",
   "execution_count": 5,
   "id": "cf19a1a7-ade7-4b47-9244-0e77971969cf",
   "metadata": {},
   "outputs": [
    {
     "data": {
      "text/plain": [
       "[<matplotlib.patches.FancyArrowPatch at 0x28a8ff9c6d0>,\n",
       " <matplotlib.patches.FancyArrowPatch at 0x28a90045d90>,\n",
       " <matplotlib.patches.FancyArrowPatch at 0x28a900dc7d0>,\n",
       " <matplotlib.patches.FancyArrowPatch at 0x28a90106090>,\n",
       " <matplotlib.patches.FancyArrowPatch at 0x28a9012bf50>,\n",
       " <matplotlib.patches.FancyArrowPatch at 0x28a90129690>,\n",
       " <matplotlib.patches.FancyArrowPatch at 0x28a8fd9dd10>,\n",
       " <matplotlib.patches.FancyArrowPatch at 0x28a9009dcd0>]"
      ]
     },
     "execution_count": 5,
     "metadata": {},
     "output_type": "execute_result"
    },
    {
     "data": {
      "image/png": "[encoded data removed]",
      "text/plain": [
       "<Figure size 640x480 with 1 Axes>"
      ]
     },
     "metadata": {},
     "output_type": "display_data"
    }
   ],
   "source": [
    "elist = [(\"A\", \"B\"),\n",
    "         (\"A\", \"C\"),\n",
    "         (\"B\", \"C\"),\n",
    "         (\"B\", \"D\"),\n",
    "         (\"C\", \"D\"),\n",
    "         (\"D\", \"E\"),\n",
    "         (\"E\", \"F\"),\n",
    "         (\"D\", \"F\")]\n",
    "G1.add_edges_from(elist)\n",
    "eattrs = {(\"A\", \"B\"): {\"capacity\": 30}, \n",
    "          (\"A\", \"C\"): {\"capacity\": 40}, \n",
    "          (\"B\", \"C\"): {\"capacity\": 65}, \n",
    "          (\"B\", \"D\"): {\"capacity\": 25},\n",
    "          (\"C\", \"D\"): {\"capacity\": 10}, \n",
    "          (\"D\", \"E\"): {\"capacity\": 35}, \n",
    "          (\"E\", \"F\"): {\"capacity\": 20}, \n",
    "          (\"D\", \"F\"): {\"capacity\": 30}}\n",
    "nx.set_edge_attributes(G1, eattrs)\n",
    "nx.draw_networkx_nodes(G1, pos = nodepos)\n",
    "nx.draw_networkx_labels(G1, pos = nodepos)\n",
    "nx.draw_networkx_edges(G1, pos = nodepos, edgelist=elist, arrows=True, connectionstyle='arc3, rad = 0')\n",
    "#nx.draw_networkx_edge_labels(G1, pos = nodepos, edge_labels = nx.get_edge_attributes(G1,'weight'), label_pos = 0.5, verticalalignment = 'bottom')"
   ]
  },
  {
   "cell_type": "markdown",
   "id": "2673c171-67c6-4f72-a3e8-b80d23ee7f8e",
   "metadata": {},
   "source": [
    "To get information on the graph \"G1\":"
   ]
  },
  {
   "cell_type": "code",
   "execution_count": 6,
   "id": "ccf290e2-46b2-4d72-82d8-2bdd3ba6ce57",
   "metadata": {
    "tags": []
   },
   "outputs": [
    {
     "name": "stdout",
     "output_type": "stream",
     "text": [
      "DiGraph with 6 nodes and 8 edges\n"
     ]
    }
   ],
   "source": [
    "print(G1)"
   ]
  },
  {
   "cell_type": "markdown",
   "id": "1458cddf-57a6-4441-a047-05ecadbeaed2",
   "metadata": {},
   "source": [
    "To get the sparse adjacency matrix (in compressed sparse row format) of the graph \"G1\":"
   ]
  },
  {
   "cell_type": "code",
   "execution_count": 7,
   "id": "7c98415a-fda7-4a2b-b316-ea1b1546ec92",
   "metadata": {
    "tags": []
   },
   "outputs": [
    {
     "name": "stdout",
     "output_type": "stream",
     "text": [
      "  (0, 1)\t1\n",
      "  (0, 2)\t1\n",
      "  (1, 2)\t1\n",
      "  (1, 3)\t1\n",
      "  (2, 3)\t1\n",
      "  (3, 4)\t1\n",
      "  (3, 5)\t1\n",
      "  (4, 5)\t1\n"
     ]
    }
   ],
   "source": [
    "G1Adj = nx.adjacency_matrix(G1)\n",
    "print(G1Adj)"
   ]
  },
  {
   "cell_type": "markdown",
   "id": "35fbceb6-b738-47f9-82a9-c8117d900771",
   "metadata": {},
   "source": [
    "To have the adjacency matrix of the graph \"G1\" in dense form:"
   ]
  },
  {
   "cell_type": "code",
   "execution_count": 8,
   "id": "7fbd7d54-1ae0-463e-baca-9e45e41c5ae9",
   "metadata": {
    "tags": []
   },
   "outputs": [
    {
     "name": "stdout",
     "output_type": "stream",
     "text": [
      "[[0 1 1 0 0 0]\n",
      " [0 0 1 1 0 0]\n",
      " [0 0 0 1 0 0]\n",
      " [0 0 0 0 1 1]\n",
      " [0 0 0 0 0 1]\n",
      " [0 0 0 0 0 0]]\n"
     ]
    }
   ],
   "source": [
    "G1_dense = np.array(G1Adj.todense())\n",
    "print(G1_dense)"
   ]
  },
  {
   "cell_type": "code",
   "execution_count": 9,
   "id": "1939eb6a-425d-4d20-a60e-0e2c03d5369e",
   "metadata": {
    "tags": []
   },
   "outputs": [],
   "source": [
    "cut_value, partition = nx.minimum_cut(G1, \"A\", \"F\")"
   ]
  },
  {
   "cell_type": "code",
   "execution_count": 10,
   "id": "637221a1-05e5-439c-bd7d-f71cb2adb21d",
   "metadata": {
    "tags": []
   },
   "outputs": [
    {
     "name": "stdout",
     "output_type": "stream",
     "text": [
      "{'C', 'B', 'A'}\n",
      "{'D', 'E', 'F'}\n"
     ]
    }
   ],
   "source": [
    "V1, V2 = partition\n",
    "print(V1)\n",
    "print(V2)"
   ]
  },
  {
   "cell_type": "code",
   "execution_count": 11,
   "id": "60a0dae3-97eb-4828-92cc-7df3bba3f8e1",
   "metadata": {
    "tags": []
   },
   "outputs": [
    {
     "name": "stdout",
     "output_type": "stream",
     "text": [
      "('B', 'D')\n",
      "('C', 'D')\n"
     ]
    }
   ],
   "source": [
    "for e in G1.edges:\n",
    "    if((e[0] in V1)and(e[1] in V2)):\n",
    "        print(e)"
   ]
  },
  {
   "cell_type": "code",
   "execution_count": 12,
   "id": "ee535d02-5374-4b59-bc5c-af85e6e9bbb4",
   "metadata": {
    "tags": []
   },
   "outputs": [
    {
     "name": "stdout",
     "output_type": "stream",
     "text": [
      "35\n"
     ]
    }
   ],
   "source": [
    "print(cut_value)"
   ]
  },
  {
   "cell_type": "markdown",
   "id": "d162f82c-11b6-43c6-8aaf-9a3cc4ab1a84",
   "metadata": {},
   "source": [
    "It appears that the two lines, namely \"B-D\"(with available capacity 25) and \"C-D\"(with available capacity 10) constitute a bottleneck. As a solution to this problem, the idea of increasing the capacity of the \"C-D\" line by 50% is being discussed."
   ]
  },
  {
   "cell_type": "code",
   "execution_count": 13,
   "id": "a746494c-4186-400e-b7fc-8f51d839cbf5",
   "metadata": {
    "tags": []
   },
   "outputs": [],
   "source": [
    "nx.set_edge_attributes(G1, {(\"C\", \"D\"): {\"capacity\": 15}})"
   ]
  },
  {
   "cell_type": "code",
   "execution_count": 14,
   "id": "6a894985-4e6e-41e7-ac2c-42bca996f80d",
   "metadata": {
    "tags": []
   },
   "outputs": [],
   "source": [
    "cut_value, partition = nx.minimum_cut(G1, \"A\", \"F\")"
   ]
  },
  {
   "cell_type": "code",
   "execution_count": 15,
   "id": "cb4ba365-58be-468f-9807-8173bf854d52",
   "metadata": {
    "tags": []
   },
   "outputs": [
    {
     "name": "stdout",
     "output_type": "stream",
     "text": [
      "{'C', 'B', 'A'}\n",
      "{'D', 'E', 'F'}\n"
     ]
    }
   ],
   "source": [
    "V1, V2 = partition\n",
    "print(V1)\n",
    "print(V2)"
   ]
  },
  {
   "cell_type": "code",
   "execution_count": 16,
   "id": "b90df690-93b5-49b8-9534-d43ec328b18a",
   "metadata": {
    "tags": []
   },
   "outputs": [
    {
     "name": "stdout",
     "output_type": "stream",
     "text": [
      "('B', 'D')\n",
      "('C', 'D')\n"
     ]
    }
   ],
   "source": [
    "for e in G1.edges:\n",
    "    if((e[0] in V1)and(e[1] in V2)):\n",
    "        print(e)"
   ]
  },
  {
   "cell_type": "code",
   "execution_count": 17,
   "id": "8358dbd9-7cc7-4dc2-87d0-a461d491af78",
   "metadata": {
    "tags": []
   },
   "outputs": [
    {
     "name": "stdout",
     "output_type": "stream",
     "text": [
      "40\n"
     ]
    }
   ],
   "source": [
    "print(cut_value)"
   ]
  },
  {
   "cell_type": "markdown",
   "id": "68e29e16-379c-4f0d-9905-1474281cb6bb",
   "metadata": {},
   "source": [
    "As a result of the capacity increase, it is possible to achieve some improvement in the transportation system during busy times."
   ]
  }
 ],
 "metadata": {
  "kernelspec": {
   "display_name": "Python 3 (ipykernel)",
   "language": "python",
   "name": "python3"
  },
  "language_info": {
   "codemirror_mode": {
    "name": "ipython",
    "version": 3
   },
   "file_extension": ".py",
   "mimetype": "text/x-python",
   "name": "python",
   "nbconvert_exporter": "python",
   "pygments_lexer": "ipython3",
   "version": "3.11.3"
  }
 },
 "nbformat": 4,
 "nbformat_minor": 5
}
